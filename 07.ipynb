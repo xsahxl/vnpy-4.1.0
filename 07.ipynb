{
 "cells": [
  {
   "cell_type": "code",
   "execution_count": 1,
   "id": "a863b5da-784e-44a9-9fe7-cf6029e9217e",
   "metadata": {},
   "outputs": [],
   "source": [
    "# 用CSV模块加载数据\n",
    "from csv import DictReader\n",
    "\n",
    "with open(\"BTC_close.csv\") as f:\n",
    "    reader = DictReader(f)\n",
    "    close_data = [row[\"close\"] for row in reader]"
   ]
  },
  {
   "cell_type": "code",
   "execution_count": 2,
   "id": "98811273-9feb-4ddb-ab41-d7af204adb54",
   "metadata": {},
   "outputs": [
    {
     "data": {
      "text/plain": [
       "['118351.0',\n",
       " '118312.14',\n",
       " '118312.14',\n",
       " '118327.16',\n",
       " '118303.49',\n",
       " '118316.0',\n",
       " '118370.99',\n",
       " '118363.07',\n",
       " '118336.68',\n",
       " '118246.59']"
      ]
     },
     "execution_count": 2,
     "metadata": {},
     "output_type": "execute_result"
    }
   ],
   "source": [
    "# 查看前10个数据\n",
    "close_data[:10]"
   ]
  },
  {
   "cell_type": "code",
   "execution_count": 3,
   "id": "c954a973-f688-4125-a1cf-e4f02c84ec3e",
   "metadata": {},
   "outputs": [],
   "source": [
    "# 转换为数组\n",
    "import numpy as np\n",
    "\n",
    "close_array = np.array(close_data).astype(\"float\")"
   ]
  },
  {
   "cell_type": "code",
   "execution_count": 4,
   "id": "b51d1585-ec07-447a-a391-954dd8a7c7ec",
   "metadata": {},
   "outputs": [],
   "source": [
    "# 取最后20个元素\n",
    "sample_array = close_array[-20:].copy()"
   ]
  },
  {
   "cell_type": "code",
   "execution_count": 5,
   "id": "720c277d-5753-4c83-9caf-dd3d9da8615d",
   "metadata": {},
   "outputs": [
    {
     "data": {
      "text/plain": [
       "array([116846.48, 116852.02, 116852.02, 116813.85, 116791.95, 116836.38,\n",
       "       116836.38, 116827.46, 116835.39, 116836.39, 116836.39, 116848.07,\n",
       "       116856.23, 116831.13, 116831.12, 116851.99, 116836.72, 116858.81,\n",
       "       116892.47, 116947.15])"
      ]
     },
     "execution_count": 5,
     "metadata": {},
     "output_type": "execute_result"
    }
   ],
   "source": [
    "# 查看sample_array\n",
    "sample_array"
   ]
  },
  {
   "cell_type": "code",
   "execution_count": 6,
   "id": "95f4ba85-3e5d-4b8a-ac07-37c16ef43333",
   "metadata": {},
   "outputs": [
    {
     "data": {
      "text/plain": [
       "array([233692.96, 233704.04, 233704.04, 233627.7 , 233583.9 , 233672.76,\n",
       "       233672.76, 233654.92, 233670.78, 233672.78, 233672.78, 233696.14,\n",
       "       233712.46, 233662.26, 233662.24, 233703.98, 233673.44, 233717.62,\n",
       "       233784.94, 233894.3 ])"
      ]
     },
     "execution_count": 6,
     "metadata": {},
     "output_type": "execute_result"
    }
   ],
   "source": [
    "# 四则运算（这里以加法为例）\n",
    "sample_array + sample_array"
   ]
  },
  {
   "cell_type": "code",
   "execution_count": 7,
   "id": "b6724058-3147-415d-b03e-d33e526917e8",
   "metadata": {},
   "outputs": [
    {
     "data": {
      "text/plain": [
       "array([1168464.8, 1168520.2, 1168520.2, 1168138.5, 1167919.5, 1168363.8,\n",
       "       1168363.8, 1168274.6, 1168353.9, 1168363.9, 1168363.9, 1168480.7,\n",
       "       1168562.3, 1168311.3, 1168311.2, 1168519.9, 1168367.2, 1168588.1,\n",
       "       1168924.7, 1169471.5])"
      ]
     },
     "execution_count": 7,
     "metadata": {},
     "output_type": "execute_result"
    }
   ],
   "source": [
    "# 数组每个元素乘以10\n",
    "sample_array * 10"
   ]
  },
  {
   "cell_type": "code",
   "execution_count": 8,
   "id": "4025fcf5-e705-4634-ad39-f1f567fd24dd",
   "metadata": {},
   "outputs": [
    {
     "data": {
      "text/plain": [
       "array([116.84648, 116.85202, 116.85202, 116.81385, 116.79195, 116.83638,\n",
       "       116.83638, 116.82746, 116.83539, 116.83639, 116.83639, 116.84807,\n",
       "       116.85623, 116.83113, 116.83112, 116.85199, 116.83672, 116.85881,\n",
       "       116.89247, 116.94715])"
      ]
     },
     "execution_count": 8,
     "metadata": {},
     "output_type": "execute_result"
    }
   ],
   "source": [
    "# 数组每个元素除以1000\n",
    "sample_array / 1000"
   ]
  },
  {
   "cell_type": "code",
   "execution_count": 9,
   "id": "29a7fcf5-c19a-4aa8-8078-e47051e5c902",
   "metadata": {},
   "outputs": [
    {
     "data": {
      "text/plain": [
       "np.float64(116845.92)"
      ]
     },
     "execution_count": 9,
     "metadata": {},
     "output_type": "execute_result"
    }
   ],
   "source": [
    "# 计算均值\n",
    "sample_array.mean()"
   ]
  },
  {
   "cell_type": "code",
   "execution_count": 10,
   "id": "ef77f767-f723-463e-a3b9-91933bf2b66d",
   "metadata": {},
   "outputs": [
    {
     "data": {
      "text/plain": [
       "np.float64(116836.555)"
      ]
     },
     "execution_count": 10,
     "metadata": {},
     "output_type": "execute_result"
    }
   ],
   "source": [
    "# 计算中位数\n",
    "np.median(sample_array)"
   ]
  },
  {
   "cell_type": "code",
   "execution_count": 11,
   "id": "d3da9950-c5c1-4115-ae71-eae629db3857",
   "metadata": {},
   "outputs": [
    {
     "data": {
      "text/plain": [
       "np.float64(116947.15)"
      ]
     },
     "execution_count": 11,
     "metadata": {},
     "output_type": "execute_result"
    }
   ],
   "source": [
    "# 计算最大值\n",
    "sample_array.max()"
   ]
  },
  {
   "cell_type": "code",
   "execution_count": 12,
   "id": "f0f461d6-7d89-4702-b12a-a971d570023d",
   "metadata": {},
   "outputs": [
    {
     "data": {
      "text/plain": [
       "np.float64(116791.95)"
      ]
     },
     "execution_count": 12,
     "metadata": {},
     "output_type": "execute_result"
    }
   ],
   "source": [
    "# 计算最小值\n",
    "sample_array.min()"
   ]
  },
  {
   "cell_type": "code",
   "execution_count": 13,
   "id": "0d958b11-730c-4b63-b25c-0ad87a5dc292",
   "metadata": {},
   "outputs": [
    {
     "data": {
      "text/plain": [
       "np.float64(30.068298920955367)"
      ]
     },
     "execution_count": 13,
     "metadata": {},
     "output_type": "execute_result"
    }
   ],
   "source": [
    "# 计算标准差\n",
    "sample_array.std()"
   ]
  },
  {
   "cell_type": "code",
   "execution_count": 14,
   "id": "ffe8135f-f82c-4325-8e83-da5f51a6323d",
   "metadata": {},
   "outputs": [
    {
     "data": {
      "text/plain": [
       "array([ 116846.48,  233698.5 ,  350550.52,  467364.37,  584156.32,\n",
       "        700992.7 ,  817829.08,  934656.54, 1051491.93, 1168328.32,\n",
       "       1285164.71, 1402012.78, 1518869.01, 1635700.14, 1752531.26,\n",
       "       1869383.25, 1986219.97, 2103078.78, 2219971.25, 2336918.4 ])"
      ]
     },
     "execution_count": 14,
     "metadata": {},
     "output_type": "execute_result"
    }
   ],
   "source": [
    "# 累积求和\n",
    "np.cumsum(sample_array)"
   ]
  },
  {
   "cell_type": "code",
   "execution_count": 16,
   "id": "2bff0888-97f9-428d-a2b3-53e8a6dfc330",
   "metadata": {},
   "outputs": [],
   "source": [
    "data2 = [\n",
    "    [1, 3, 5, 7, 9],\n",
    "    [2, 4, 6, 8, 10]\n",
    "]\n",
    "arr2 = np.array(data2)"
   ]
  },
  {
   "cell_type": "code",
   "execution_count": 17,
   "id": "e05bf2db-d9c9-45f3-af6d-c16f99275d2d",
   "metadata": {},
   "outputs": [
    {
     "data": {
      "text/plain": [
       "array([[ 1,  3,  5,  7,  9],\n",
       "       [ 2,  4,  6,  8, 10]])"
      ]
     },
     "execution_count": 17,
     "metadata": {},
     "output_type": "execute_result"
    }
   ],
   "source": [
    "arr2"
   ]
  },
  {
   "cell_type": "code",
   "execution_count": 18,
   "id": "05226b9b-80d2-4008-9410-3b4b33abab77",
   "metadata": {},
   "outputs": [
    {
     "data": {
      "text/plain": [
       "np.int64(6)"
      ]
     },
     "execution_count": 18,
     "metadata": {},
     "output_type": "execute_result"
    }
   ],
   "source": [
    "arr2[1][2]"
   ]
  },
  {
   "cell_type": "code",
   "execution_count": 19,
   "id": "e7afd526-03db-4e18-a04d-6e663596d627",
   "metadata": {},
   "outputs": [
    {
     "data": {
      "text/plain": [
       "np.int64(6)"
      ]
     },
     "execution_count": 19,
     "metadata": {},
     "output_type": "execute_result"
    }
   ],
   "source": [
    "arr2[1, 2]"
   ]
  },
  {
   "cell_type": "code",
   "execution_count": 20,
   "id": "99abcf76-b7f8-494d-bf57-df1307afb7ca",
   "metadata": {},
   "outputs": [],
   "source": [
    "index = arr2 > 3"
   ]
  },
  {
   "cell_type": "code",
   "execution_count": 21,
   "id": "694a2daf-3fd9-497b-b09a-81f95662c009",
   "metadata": {},
   "outputs": [
    {
     "data": {
      "text/plain": [
       "array([[False, False,  True,  True,  True],\n",
       "       [False,  True,  True,  True,  True]])"
      ]
     },
     "execution_count": 21,
     "metadata": {},
     "output_type": "execute_result"
    }
   ],
   "source": [
    "index"
   ]
  },
  {
   "cell_type": "code",
   "execution_count": 22,
   "id": "21f7f17e-ffad-4607-a9c0-491296f43c7d",
   "metadata": {},
   "outputs": [
    {
     "data": {
      "text/plain": [
       "array([ 5,  7,  9,  4,  6,  8, 10])"
      ]
     },
     "execution_count": 22,
     "metadata": {},
     "output_type": "execute_result"
    }
   ],
   "source": [
    "arr2[arr2 > 3]"
   ]
  },
  {
   "cell_type": "code",
   "execution_count": null,
   "id": "e7fb1b78-c4c7-42b7-b728-b12de2da537a",
   "metadata": {},
   "outputs": [],
   "source": []
  }
 ],
 "metadata": {
  "kernelspec": {
   "display_name": "Python 3 (ipykernel)",
   "language": "python",
   "name": "python3"
  },
  "language_info": {
   "codemirror_mode": {
    "name": "ipython",
    "version": 3
   },
   "file_extension": ".py",
   "mimetype": "text/x-python",
   "name": "python",
   "nbconvert_exporter": "python",
   "pygments_lexer": "ipython3",
   "version": "3.12.4"
  }
 },
 "nbformat": 4,
 "nbformat_minor": 5
}
