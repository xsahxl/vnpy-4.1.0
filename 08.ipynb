{
 "cells": [
  {
   "cell_type": "code",
   "execution_count": 1,
   "id": "8def0d39-00b5-47a0-b02b-212115a33a47",
   "metadata": {},
   "outputs": [],
   "source": [
    "import numpy as np\n",
    "import plotly.express as px\n",
    "import pandas as pd\n",
    "import pandas as pa\n",
    "from data_tool import download_binance_minute_data"
   ]
  },
  {
   "cell_type": "code",
   "execution_count": 2,
   "id": "1921a3b9-2329-4e33-83d2-f4c32578b964",
   "metadata": {},
   "outputs": [
    {
     "name": "stdout",
     "output_type": "stream",
     "text": [
      "2025-09-01 00:00:00+08:00 2025-09-01 16:39:00+08:00\n",
      "2025-09-01 16:39:00+08:00 2025-09-02 00:00:00+08:00\n"
     ]
    }
   ],
   "source": [
    "bar_data = download_binance_minute_data(\"BTCUSDT\", \"20250901\", \"20250902\")"
   ]
  },
  {
   "cell_type": "code",
   "execution_count": 3,
   "id": "56db02ed-7350-4ef6-8005-9051be60cfcd",
   "metadata": {},
   "outputs": [],
   "source": [
    "# 提取收盘价\n",
    "close_prices = [bar.close_price for bar in bar_data]"
   ]
  },
  {
   "cell_type": "code",
   "execution_count": 4,
   "id": "67673ab6-5a78-4a5c-94da-ea4864bea664",
   "metadata": {},
   "outputs": [
    {
     "data": {
      "application/vnd.plotly.v1+json": {
       "config": {
        "plotlyServerURL": "https://plot.ly"
       },
       "data": [
        {
         "hovertemplate": "variable=0<br>index=%{x}<br>value=%{y}<extra></extra>",
         "legendgroup": "0",
         "line": {
          "color": "#636efa",
          "dash": "solid"
         },
         "marker": {
          "symbol": "circle"
         },
         "mode": "lines",
         "name": "0",
         "showlegend": true,
         "type": "scattergl",
         "x": {
          "bdata": "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",
          "dtype": "i2"
         },
         "xaxis": "x",
         "y": {
          "bdata": "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",
          "dtype": "f8"
         },
         "yaxis": "y"
        }
       ],
       "layout": {
        "legend": {
         "title": {
          "text": "variable"
         },
         "tracegroupgap": 0
        },
        "margin": {
         "t": 60
        },
        "template": {
         "data": {
          "bar": [
           {
            "error_x": {
             "color": "#2a3f5f"
            },
            "error_y": {
             "color": "#2a3f5f"
            },
            "marker": {
             "line": {
              "color": "#E5ECF6",
              "width": 0.5
             },
             "pattern": {
              "fillmode": "overlay",
              "size": 10,
              "solidity": 0.2
             }
            },
            "type": "bar"
           }
          ],
          "barpolar": [
           {
            "marker": {
             "line": {
              "color": "#E5ECF6",
              "width": 0.5
             },
             "pattern": {
              "fillmode": "overlay",
              "size": 10,
              "solidity": 0.2
             }
            },
            "type": "barpolar"
           }
          ],
          "carpet": [
           {
            "aaxis": {
             "endlinecolor": "#2a3f5f",
             "gridcolor": "white",
             "linecolor": "white",
             "minorgridcolor": "white",
             "startlinecolor": "#2a3f5f"
            },
            "baxis": {
             "endlinecolor": "#2a3f5f",
             "gridcolor": "white",
             "linecolor": "white",
             "minorgridcolor": "white",
             "startlinecolor": "#2a3f5f"
            },
            "type": "carpet"
           }
          ],
          "choropleth": [
           {
            "colorbar": {
             "outlinewidth": 0,
             "ticks": ""
            },
            "type": "choropleth"
           }
          ],
          "contour": [
           {
            "colorbar": {
             "outlinewidth": 0,
             "ticks": ""
            },
            "colorscale": [
             [
              0,
              "#0d0887"
             ],
             [
              0.1111111111111111,
              "#46039f"
             ],
             [
              0.2222222222222222,
              "#7201a8"
             ],
             [
              0.3333333333333333,
              "#9c179e"
             ],
             [
              0.4444444444444444,
              "#bd3786"
             ],
             [
              0.5555555555555556,
              "#d8576b"
             ],
             [
              0.6666666666666666,
              "#ed7953"
             ],
             [
              0.7777777777777778,
              "#fb9f3a"
             ],
             [
              0.8888888888888888,
              "#fdca26"
             ],
             [
              1,
              "#f0f921"
             ]
            ],
            "type": "contour"
           }
          ],
          "contourcarpet": [
           {
            "colorbar": {
             "outlinewidth": 0,
             "ticks": ""
            },
            "type": "contourcarpet"
           }
          ],
          "heatmap": [
           {
            "colorbar": {
             "outlinewidth": 0,
             "ticks": ""
            },
            "colorscale": [
             [
              0,
              "#0d0887"
             ],
             [
              0.1111111111111111,
              "#46039f"
             ],
             [
              0.2222222222222222,
              "#7201a8"
             ],
             [
              0.3333333333333333,
              "#9c179e"
             ],
             [
              0.4444444444444444,
              "#bd3786"
             ],
             [
              0.5555555555555556,
              "#d8576b"
             ],
             [
              0.6666666666666666,
              "#ed7953"
             ],
             [
              0.7777777777777778,
              "#fb9f3a"
             ],
             [
              0.8888888888888888,
              "#fdca26"
             ],
             [
              1,
              "#f0f921"
             ]
            ],
            "type": "heatmap"
           }
          ],
          "histogram": [
           {
            "marker": {
             "pattern": {
              "fillmode": "overlay",
              "size": 10,
              "solidity": 0.2
             }
            },
            "type": "histogram"
           }
          ],
          "histogram2d": [
           {
            "colorbar": {
             "outlinewidth": 0,
             "ticks": ""
            },
            "colorscale": [
             [
              0,
              "#0d0887"
             ],
             [
              0.1111111111111111,
              "#46039f"
             ],
             [
              0.2222222222222222,
              "#7201a8"
             ],
             [
              0.3333333333333333,
              "#9c179e"
             ],
             [
              0.4444444444444444,
              "#bd3786"
             ],
             [
              0.5555555555555556,
              "#d8576b"
             ],
             [
              0.6666666666666666,
              "#ed7953"
             ],
             [
              0.7777777777777778,
              "#fb9f3a"
             ],
             [
              0.8888888888888888,
              "#fdca26"
             ],
             [
              1,
              "#f0f921"
             ]
            ],
            "type": "histogram2d"
           }
          ],
          "histogram2dcontour": [
           {
            "colorbar": {
             "outlinewidth": 0,
             "ticks": ""
            },
            "colorscale": [
             [
              0,
              "#0d0887"
             ],
             [
              0.1111111111111111,
              "#46039f"
             ],
             [
              0.2222222222222222,
              "#7201a8"
             ],
             [
              0.3333333333333333,
              "#9c179e"
             ],
             [
              0.4444444444444444,
              "#bd3786"
             ],
             [
              0.5555555555555556,
              "#d8576b"
             ],
             [
              0.6666666666666666,
              "#ed7953"
             ],
             [
              0.7777777777777778,
              "#fb9f3a"
             ],
             [
              0.8888888888888888,
              "#fdca26"
             ],
             [
              1,
              "#f0f921"
             ]
            ],
            "type": "histogram2dcontour"
           }
          ],
          "mesh3d": [
           {
            "colorbar": {
             "outlinewidth": 0,
             "ticks": ""
            },
            "type": "mesh3d"
           }
          ],
          "parcoords": [
           {
            "line": {
             "colorbar": {
              "outlinewidth": 0,
              "ticks": ""
             }
            },
            "type": "parcoords"
           }
          ],
          "pie": [
           {
            "automargin": true,
            "type": "pie"
           }
          ],
          "scatter": [
           {
            "fillpattern": {
             "fillmode": "overlay",
             "size": 10,
             "solidity": 0.2
            },
            "type": "scatter"
           }
          ],
          "scatter3d": [
           {
            "line": {
             "colorbar": {
              "outlinewidth": 0,
              "ticks": ""
             }
            },
            "marker": {
             "colorbar": {
              "outlinewidth": 0,
              "ticks": ""
             }
            },
            "type": "scatter3d"
           }
          ],
          "scattercarpet": [
           {
            "marker": {
             "colorbar": {
              "outlinewidth": 0,
              "ticks": ""
             }
            },
            "type": "scattercarpet"
           }
          ],
          "scattergeo": [
           {
            "marker": {
             "colorbar": {
              "outlinewidth": 0,
              "ticks": ""
             }
            },
            "type": "scattergeo"
           }
          ],
          "scattergl": [
           {
            "marker": {
             "colorbar": {
              "outlinewidth": 0,
              "ticks": ""
             }
            },
            "type": "scattergl"
           }
          ],
          "scattermap": [
           {
            "marker": {
             "colorbar": {
              "outlinewidth": 0,
              "ticks": ""
             }
            },
            "type": "scattermap"
           }
          ],
          "scattermapbox": [
           {
            "marker": {
             "colorbar": {
              "outlinewidth": 0,
              "ticks": ""
             }
            },
            "type": "scattermapbox"
           }
          ],
          "scatterpolar": [
           {
            "marker": {
             "colorbar": {
              "outlinewidth": 0,
              "ticks": ""
             }
            },
            "type": "scatterpolar"
           }
          ],
          "scatterpolargl": [
           {
            "marker": {
             "colorbar": {
              "outlinewidth": 0,
              "ticks": ""
             }
            },
            "type": "scatterpolargl"
           }
          ],
          "scatterternary": [
           {
            "marker": {
             "colorbar": {
              "outlinewidth": 0,
              "ticks": ""
             }
            },
            "type": "scatterternary"
           }
          ],
          "surface": [
           {
            "colorbar": {
             "outlinewidth": 0,
             "ticks": ""
            },
            "colorscale": [
             [
              0,
              "#0d0887"
             ],
             [
              0.1111111111111111,
              "#46039f"
             ],
             [
              0.2222222222222222,
              "#7201a8"
             ],
             [
              0.3333333333333333,
              "#9c179e"
             ],
             [
              0.4444444444444444,
              "#bd3786"
             ],
             [
              0.5555555555555556,
              "#d8576b"
             ],
             [
              0.6666666666666666,
              "#ed7953"
             ],
             [
              0.7777777777777778,
              "#fb9f3a"
             ],
             [
              0.8888888888888888,
              "#fdca26"
             ],
             [
              1,
              "#f0f921"
             ]
            ],
            "type": "surface"
           }
          ],
          "table": [
           {
            "cells": {
             "fill": {
              "color": "#EBF0F8"
             },
             "line": {
              "color": "white"
             }
            },
            "header": {
             "fill": {
              "color": "#C8D4E3"
             },
             "line": {
              "color": "white"
             }
            },
            "type": "table"
           }
          ]
         },
         "layout": {
          "annotationdefaults": {
           "arrowcolor": "#2a3f5f",
           "arrowhead": 0,
           "arrowwidth": 1
          },
          "autotypenumbers": "strict",
          "coloraxis": {
           "colorbar": {
            "outlinewidth": 0,
            "ticks": ""
           }
          },
          "colorscale": {
           "diverging": [
            [
             0,
             "#8e0152"
            ],
            [
             0.1,
             "#c51b7d"
            ],
            [
             0.2,
             "#de77ae"
            ],
            [
             0.3,
             "#f1b6da"
            ],
            [
             0.4,
             "#fde0ef"
            ],
            [
             0.5,
             "#f7f7f7"
            ],
            [
             0.6,
             "#e6f5d0"
            ],
            [
             0.7,
             "#b8e186"
            ],
            [
             0.8,
             "#7fbc41"
            ],
            [
             0.9,
             "#4d9221"
            ],
            [
             1,
             "#276419"
            ]
           ],
           "sequential": [
            [
             0,
             "#0d0887"
            ],
            [
             0.1111111111111111,
             "#46039f"
            ],
            [
             0.2222222222222222,
             "#7201a8"
            ],
            [
             0.3333333333333333,
             "#9c179e"
            ],
            [
             0.4444444444444444,
             "#bd3786"
            ],
            [
             0.5555555555555556,
             "#d8576b"
            ],
            [
             0.6666666666666666,
             "#ed7953"
            ],
            [
             0.7777777777777778,
             "#fb9f3a"
            ],
            [
             0.8888888888888888,
             "#fdca26"
            ],
            [
             1,
             "#f0f921"
            ]
           ],
           "sequentialminus": [
            [
             0,
             "#0d0887"
            ],
            [
             0.1111111111111111,
             "#46039f"
            ],
            [
             0.2222222222222222,
             "#7201a8"
            ],
            [
             0.3333333333333333,
             "#9c179e"
            ],
            [
             0.4444444444444444,
             "#bd3786"
            ],
            [
             0.5555555555555556,
             "#d8576b"
            ],
            [
             0.6666666666666666,
             "#ed7953"
            ],
            [
             0.7777777777777778,
             "#fb9f3a"
            ],
            [
             0.8888888888888888,
             "#fdca26"
            ],
            [
             1,
             "#f0f921"
            ]
           ]
          },
          "colorway": [
           "#636efa",
           "#EF553B",
           "#00cc96",
           "#ab63fa",
           "#FFA15A",
           "#19d3f3",
           "#FF6692",
           "#B6E880",
           "#FF97FF",
           "#FECB52"
          ],
          "font": {
           "color": "#2a3f5f"
          },
          "geo": {
           "bgcolor": "white",
           "lakecolor": "white",
           "landcolor": "#E5ECF6",
           "showlakes": true,
           "showland": true,
           "subunitcolor": "white"
          },
          "hoverlabel": {
           "align": "left"
          },
          "hovermode": "closest",
          "mapbox": {
           "style": "light"
          },
          "paper_bgcolor": "white",
          "plot_bgcolor": "#E5ECF6",
          "polar": {
           "angularaxis": {
            "gridcolor": "white",
            "linecolor": "white",
            "ticks": ""
           },
           "bgcolor": "#E5ECF6",
           "radialaxis": {
            "gridcolor": "white",
            "linecolor": "white",
            "ticks": ""
           }
          },
          "scene": {
           "xaxis": {
            "backgroundcolor": "#E5ECF6",
            "gridcolor": "white",
            "gridwidth": 2,
            "linecolor": "white",
            "showbackground": true,
            "ticks": "",
            "zerolinecolor": "white"
           },
           "yaxis": {
            "backgroundcolor": "#E5ECF6",
            "gridcolor": "white",
            "gridwidth": 2,
            "linecolor": "white",
            "showbackground": true,
            "ticks": "",
            "zerolinecolor": "white"
           },
           "zaxis": {
            "backgroundcolor": "#E5ECF6",
            "gridcolor": "white",
            "gridwidth": 2,
            "linecolor": "white",
            "showbackground": true,
            "ticks": "",
            "zerolinecolor": "white"
           }
          },
          "shapedefaults": {
           "line": {
            "color": "#2a3f5f"
           }
          },
          "ternary": {
           "aaxis": {
            "gridcolor": "white",
            "linecolor": "white",
            "ticks": ""
           },
           "baxis": {
            "gridcolor": "white",
            "linecolor": "white",
            "ticks": ""
           },
           "bgcolor": "#E5ECF6",
           "caxis": {
            "gridcolor": "white",
            "linecolor": "white",
            "ticks": ""
           }
          },
          "title": {
           "x": 0.05
          },
          "xaxis": {
           "automargin": true,
           "gridcolor": "white",
           "linecolor": "white",
           "ticks": "",
           "title": {
            "standoff": 15
           },
           "zerolinecolor": "white",
           "zerolinewidth": 2
          },
          "yaxis": {
           "automargin": true,
           "gridcolor": "white",
           "linecolor": "white",
           "ticks": "",
           "title": {
            "standoff": 15
           },
           "zerolinecolor": "white",
           "zerolinewidth": 2
          }
         }
        },
        "xaxis": {
         "anchor": "y",
         "domain": [
          0,
          1
         ],
         "title": {
          "text": "index"
         }
        },
        "yaxis": {
         "anchor": "x",
         "domain": [
          0,
          1
         ],
         "title": {
          "text": "value"
         }
        }
       }
      },
      "image/png": "[encoded data removed]"
     },
     "metadata": {},
     "output_type": "display_data"
    }
   ],
   "source": [
    "# 绘制曲线\n",
    "fig = px.line(close_prices)\n",
    "fig.show()"
   ]
  },
  {
   "cell_type": "code",
   "execution_count": 5,
   "id": "19f7b38b-20f0-48a0-9492-1330c33708de",
   "metadata": {},
   "outputs": [],
   "source": [
    "# 计算移动平均值: 是一种常用的时间序列数据平滑方法，用于消除短期波动，突出长期趋势。\n",
    "def moving_average(data: list, window: int):\n",
    "    # 最前面的window窗口数据无法计算\n",
    "    ma = [0 for i in range(window - 1)]\n",
    "\n",
    "    # 滚动求和，然后除以窗口得到均值\n",
    "    for start_ix in range(len(data) - (window - 1)):\n",
    "        end_ix = start_ix + window\n",
    "        value = sum(data[start_ix:end_ix]) / window\n",
    "        ma.append(value)\n",
    "\n",
    "    # 返回结果\n",
    "    return ma"
   ]
  },
  {
   "cell_type": "code",
   "execution_count": 10,
   "id": "90b93926-8814-4dd8-9c8f-7e556bf01168",
   "metadata": {},
   "outputs": [],
   "source": [
    "# 计算移动平均值\n",
    "def moving_average(data: list, window: int):\n",
    "    # 最前面的window窗口数据无法计算\n",
    "    ma = [0 for i in range(window - 1)]\n",
    "\n",
    "    # 滚动求和，然后除以窗口得到均值\n",
    "    for start_ix in range(len(data) - (window - 1)):\n",
    "        end_ix = start_ix + window\n",
    "        value = sum(data[start_ix:end_ix]) / window\n",
    "        ma.append(value)\n",
    "\n",
    "    # 返回结果\n",
    "    return ma"
   ]
  },
  {
   "cell_type": "code",
   "execution_count": 6,
   "id": "007ffac5-8310-4d1c-9142-9fe4923a4841",
   "metadata": {},
   "outputs": [],
   "source": [
    "# 计算不同窗口的移动平均\n",
    "ma10 = moving_average(close_prices, 10)\n",
    "ma20 = moving_average(close_prices, 20)"
   ]
  },
  {
   "cell_type": "code",
   "execution_count": 7,
   "id": "3dd9206b-8f3e-426c-874a-ce09a1eddf9e",
   "metadata": {},
   "outputs": [],
   "source": [
    "d = {\n",
    "    \"close\": close_prices,\n",
    "    \"ma10\": ma10,\n",
    "    \"ma20\": ma20\n",
    "}\n",
    "df = pd.DataFrame(d)"
   ]
  },
  {
   "cell_type": "code",
   "execution_count": 8,
   "id": "059f0f6d-24e8-45e5-9104-9637b43721e5",
   "metadata": {},
   "outputs": [
    {
     "data": {
      "text/html": [
       "<div>\n",
       "<style scoped>\n",
       "    .dataframe tbody tr th:only-of-type {\n",
       "        vertical-align: middle;\n",
       "    }\n",
       "\n",
       "    .dataframe tbody tr th {\n",
       "        vertical-align: top;\n",
       "    }\n",
       "\n",
       "    .dataframe thead th {\n",
       "        text-align: right;\n",
       "    }\n",
       "</style>\n",
       "<table border=\"1\" class=\"dataframe\">\n",
       "  <thead>\n",
       "    <tr style=\"text-align: right;\">\n",
       "      <th></th>\n",
       "      <th>close</th>\n",
       "      <th>ma10</th>\n",
       "      <th>ma20</th>\n",
       "    </tr>\n",
       "  </thead>\n",
       "  <tbody>\n",
       "    <tr>\n",
       "      <th>0</th>\n",
       "      <td>108787.20</td>\n",
       "      <td>0.000</td>\n",
       "      <td>0.0000</td>\n",
       "    </tr>\n",
       "    <tr>\n",
       "      <th>1</th>\n",
       "      <td>108767.22</td>\n",
       "      <td>0.000</td>\n",
       "      <td>0.0000</td>\n",
       "    </tr>\n",
       "    <tr>\n",
       "      <th>2</th>\n",
       "      <td>108751.60</td>\n",
       "      <td>0.000</td>\n",
       "      <td>0.0000</td>\n",
       "    </tr>\n",
       "    <tr>\n",
       "      <th>3</th>\n",
       "      <td>108711.38</td>\n",
       "      <td>0.000</td>\n",
       "      <td>0.0000</td>\n",
       "    </tr>\n",
       "    <tr>\n",
       "      <th>4</th>\n",
       "      <td>108711.00</td>\n",
       "      <td>0.000</td>\n",
       "      <td>0.0000</td>\n",
       "    </tr>\n",
       "    <tr>\n",
       "      <th>...</th>\n",
       "      <td>...</td>\n",
       "      <td>...</td>\n",
       "      <td>...</td>\n",
       "    </tr>\n",
       "    <tr>\n",
       "      <th>1436</th>\n",
       "      <td>108760.00</td>\n",
       "      <td>108672.804</td>\n",
       "      <td>108714.9465</td>\n",
       "    </tr>\n",
       "    <tr>\n",
       "      <th>1437</th>\n",
       "      <td>108750.91</td>\n",
       "      <td>108673.864</td>\n",
       "      <td>108711.1920</td>\n",
       "    </tr>\n",
       "    <tr>\n",
       "      <th>1438</th>\n",
       "      <td>108748.26</td>\n",
       "      <td>108684.221</td>\n",
       "      <td>108706.4145</td>\n",
       "    </tr>\n",
       "    <tr>\n",
       "      <th>1439</th>\n",
       "      <td>108784.33</td>\n",
       "      <td>108697.476</td>\n",
       "      <td>108707.1310</td>\n",
       "    </tr>\n",
       "    <tr>\n",
       "      <th>1440</th>\n",
       "      <td>108778.09</td>\n",
       "      <td>108713.286</td>\n",
       "      <td>108707.1100</td>\n",
       "    </tr>\n",
       "  </tbody>\n",
       "</table>\n",
       "<p>1441 rows × 3 columns</p>\n",
       "</div>"
      ],
      "text/plain": [
       "          close        ma10         ma20\n",
       "0     108787.20       0.000       0.0000\n",
       "1     108767.22       0.000       0.0000\n",
       "2     108751.60       0.000       0.0000\n",
       "3     108711.38       0.000       0.0000\n",
       "4     108711.00       0.000       0.0000\n",
       "...         ...         ...          ...\n",
       "1436  108760.00  108672.804  108714.9465\n",
       "1437  108750.91  108673.864  108711.1920\n",
       "1438  108748.26  108684.221  108706.4145\n",
       "1439  108784.33  108697.476  108707.1310\n",
       "1440  108778.09  108713.286  108707.1100\n",
       "\n",
       "[1441 rows x 3 columns]"
      ]
     },
     "execution_count": 8,
     "metadata": {},
     "output_type": "execute_result"
    }
   ],
   "source": [
    "df"
   ]
  },
  {
   "cell_type": "code",
   "execution_count": 11,
   "id": "4a199b57-7759-4a2c-a11a-d11359814194",
   "metadata": {},
   "outputs": [
    {
     "data": {
      "application/vnd.plotly.v1+json": {
       "config": {
        "plotlyServerURL": "https://plot.ly"
       },
       "data": [
        {
         "hovertemplate": "variable=close<br>index=%{x}<br>value=%{y}<extra></extra>",
         "legendgroup": "close",
         "line": {
          "color": "#636efa",
          "dash": "solid"
         },
         "marker": {
          "symbol": "circle"
         },
         "mode": "lines",
         "name": "close",
         "showlegend": true,
         "type": "scattergl",
         "x": {
          "bdata": "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",
          "dtype": "i2"
         },
         "xaxis": "x",
         "y": {
          "bdata": "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",
          "dtype": "f8"
         },
         "yaxis": "y"
        },
        {
         "hovertemplate": "variable=ma10<br>index=%{x}<br>value=%{y}<extra></extra>",
         "legendgroup": "ma10",
         "line": {
          "color": "#EF553B",
          "dash": "solid"
         },
         "marker": {
          "symbol": "circle"
         },
         "mode": "lines",
         "name": "ma10",
         "showlegend": true,
         "type": "scattergl",
         "x": {
          "bdata": "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",
          "dtype": "i2"
         },
         "xaxis": "x",
         "y": {
          "bdata": "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",
          "dtype": "f8"
         },
         "yaxis": "y"
        },
        {
         "hovertemplate": "variable=ma20<br>index=%{x}<br>value=%{y}<extra></extra>",
         "legendgroup": "ma20",
         "line": {
          "color": "#00cc96",
          "dash": "solid"
         },
         "marker": {
          "symbol": "circle"
         },
         "mode": "lines",
         "name": "ma20",
         "showlegend": true,
         "type": "scattergl",
         "x": {
          "bdata": "AAABAAIAAwAEAAUABgAHAAgACQAKAAsADAANAA4ADwAQABEAEgATABQAFQAWABcAGAAZABoAGwAcAB0AHgAfACAAIQAiACMAJAAlACYAJwAoACkAKgArACwALQAuAC8AMAAxADIAMwA0ADUANgA3ADgAOQA6ADsAPAA9AD4APwBAAEEAQgBDAEQARQBGAEcASABJAEoASwBMAE0ATgBPAFAAUQBSAFMAVABVAFYAVwBYAFkAWgBbAFwAXQBeAF8AYABhAGIAYwBkAGUAZgBnAGgAaQBqAGsAbABtAG4AbwBwAHEAcgBzAHQAdQB2AHcAeAB5AHoAewB8AH0AfgB/AIAAgQCCAIMAhACFAIYAhwCIAIkAigCLAIwAjQCOAI8AkACRAJIAkwCUAJUAlgCXAJgAmQCaAJsAnACdAJ4AnwCgAKEAogCjAKQApQCmAKcAqACpAKoAqwCsAK0ArgCvALAAsQCyALMAtAC1ALYAtwC4ALkAugC7ALwAvQC+AL8AwADBAMIAwwDEAMUAxgDHAMgAyQDKAMsAzADNAM4AzwDQANEA0gDTANQA1QDWANcA2ADZANoA2wDcAN0A3gDfAOAA4QDiAOMA5ADlAOYA5wDoAOkA6gDrAOwA7QDuAO8A8ADxAPIA8wD0APUA9gD3APgA+QD6APsA/AD9AP4A/wAAAQEBAgEDAQQBBQEGAQcBCAEJAQoBCwEMAQ0BDgEPARABEQESARMBFAEVARYBFwEYARkBGgEbARwBHQEeAR8BIAEhASIBIwEkASUBJgEnASgBKQEqASsBLAEtAS4BLwEwATEBMgEzATQBNQE2ATcBOAE5AToBOwE8AT0BPgE/AUABQQFCAUMBRAFFAUYBRwFIAUkBSgFLAUwBTQFOAU8BUAFRAVIBUwFUAVUBVgFXAVgBWQFaAVsBXAFdAV4BXwFgAWEBYgFjAWQBZQFmAWcBaAFpAWoBawFsAW0BbgFvAXABcQFyAXMBdAF1AXYBdwF4AXkBegF7AXwBfQF+AX8BgAGBAYIBgwGEAYUBhgGHAYgBiQGKAYsBjAGNAY4BjwGQAZEBkgGTAZQBlQGWAZcBmAGZAZoBmwGcAZ0BngGfAaABoQGiAaMBpAGlAaYBpwGoAakBqgGrAawBrQGuAa8BsAGxAbIBswG0AbUBtgG3AbgBuQG6AbsBvAG9Ab4BvwHAAcEBwgHDAcQBxQHGAccByAHJAcoBywHMAc0BzgHPAdAB0QHSAdMB1AHVAdYB1wHYAdkB2gHbAdwB3QHeAd8B4AHhAeIB4wHkAeUB5gHnAegB6QHqAesB7AHtAe4B7wHwAfEB8gHzAfQB9QH2AfcB+AH5AfoB+wH8Af0B/gH/AQACAQICAgMCBAIFAgYCBwIIAgkCCgILAgwCDQIOAg8CEAIRAhICEwIUAhUCFgIXAhgCGQIaAhsCHAIdAh4CHwIgAiECIgIjAiQCJQImAicCKAIpAioCKwIsAi0CLgIvAjACMQIyAjMCNAI1AjYCNwI4AjkCOgI7AjwCPQI+Aj8CQAJBAkICQwJEAkUCRgJHAkgCSQJKAksCTAJNAk4CTwJQAlECUgJTAlQCVQJWAlcCWAJZAloCWwJcAl0CXgJfAmACYQJiAmMCZAJlAmYCZwJoAmkCagJrAmwCbQJuAm8CcAJxAnICcwJ0AnUCdgJ3AngCeQJ6AnsCfAJ9An4CfwKAAoECggKDAoQChQKGAocCiAKJAooCiwKMAo0CjgKPApACkQKSApMClAKVApYClwKYApkCmgKbApwCnQKeAp8CoAKhAqICowKkAqUCpgKnAqgCqQKqAqsCrAKtAq4CrwKwArECsgKzArQCtQK2ArcCuAK5AroCuwK8Ar0CvgK/AsACwQLCAsMCxALFAsYCxwLIAskCygLLAswCzQLOAs8C0ALRAtIC0wLUAtUC1gLXAtgC2QLaAtsC3ALdAt4C3wLgAuEC4gLjAuQC5QLmAucC6ALpAuoC6wLsAu0C7gLvAvAC8QLyAvMC9AL1AvYC9wL4AvkC+gL7AvwC/QL+Av8CAAMBAwIDAwMEAwUDBgMHAwgDCQMKAwsDDAMNAw4DDwMQAxEDEgMTAxQDFQMWAxcDGAMZAxoDGwMcAx0DHgMfAyADIQMiAyMDJAMlAyYDJwMoAykDKgMrAywDLQMuAy8DMAMxAzIDMwM0AzUDNgM3AzgDOQM6AzsDPAM9Az4DPwNAA0EDQgNDA0QDRQNGA0cDSANJA0oDSwNMA00DTgNPA1ADUQNSA1MDVANVA1YDVwNYA1kDWgNbA1wDXQNeA18DYANhA2IDYwNkA2UDZgNnA2gDaQNqA2sDbANtA24DbwNwA3EDcgNzA3QDdQN2A3cDeAN5A3oDewN8A30DfgN/A4ADgQOCA4MDhAOFA4YDhwOIA4kDigOLA4wDjQOOA48DkAORA5IDkwOUA5UDlgOXA5gDmQOaA5sDnAOdA54DnwOgA6EDogOjA6QDpQOmA6cDqAOpA6oDqwOsA60DrgOvA7ADsQOyA7MDtAO1A7YDtwO4A7kDugO7A7wDvQO+A78DwAPBA8IDwwPEA8UDxgPHA8gDyQPKA8sDzAPNA84DzwPQA9ED0gPTA9QD1QPWA9cD2APZA9oD2wPcA90D3gPfA+AD4QPiA+MD5APlA+YD5wPoA+kD6gPrA+wD7QPuA+8D8APxA/ID8wP0A/UD9gP3A/gD+QP6A/sD/AP9A/4D/wMABAEEAgQDBAQEBQQGBAcECAQJBAoECwQMBA0EDgQPBBAEEQQSBBMEFAQVBBYEFwQYBBkEGgQbBBwEHQQeBB8EIAQhBCIEIwQkBCUEJgQnBCgEKQQqBCsELAQtBC4ELwQwBDEEMgQzBDQENQQ2BDcEOAQ5BDoEOwQ8BD0EPgQ/BEAEQQRCBEMERARFBEYERwRIBEkESgRLBEwETQROBE8EUARRBFIEUwRUBFUEVgRXBFgEWQRaBFsEXARdBF4EXwRgBGEEYgRjBGQEZQRmBGcEaARpBGoEawRsBG0EbgRvBHAEcQRyBHMEdAR1BHYEdwR4BHkEegR7BHwEfQR+BH8EgASBBIIEgwSEBIUEhgSHBIgEiQSKBIsEjASNBI4EjwSQBJEEkgSTBJQElQSWBJcEmASZBJoEmwScBJ0EngSfBKAEoQSiBKMEpASlBKYEpwSoBKkEqgSrBKwErQSuBK8EsASxBLIEswS0BLUEtgS3BLgEuQS6BLsEvAS9BL4EvwTABMEEwgTDBMQExQTGBMcEyATJBMoEywTMBM0EzgTPBNAE0QTSBNME1ATVBNYE1wTYBNkE2gTbBNwE3QTeBN8E4AThBOIE4wTkBOUE5gTnBOgE6QTqBOsE7ATtBO4E7wTwBPEE8gTzBPQE9QT2BPcE+AT5BPoE+wT8BP0E/gT/BAAFAQUCBQMFBAUFBQYFBwUIBQkFCgULBQwFDQUOBQ8FEAURBRIFEwUUBRUFFgUXBRgFGQUaBRsFHAUdBR4FHwUgBSEFIgUjBSQFJQUmBScFKAUpBSoFKwUsBS0FLgUvBTAFMQUyBTMFNAU1BTYFNwU4BTkFOgU7BTwFPQU+BT8FQAVBBUIFQwVEBUUFRgVHBUgFSQVKBUsFTAVNBU4FTwVQBVEFUgVTBVQFVQVWBVcFWAVZBVoFWwVcBV0FXgVfBWAFYQViBWMFZAVlBWYFZwVoBWkFagVrBWwFbQVuBW8FcAVxBXIFcwV0BXUFdgV3BXgFeQV6BXsFfAV9BX4FfwWABYEFggWDBYQFhQWGBYcFiAWJBYoFiwWMBY0FjgWPBZAFkQWSBZMFlAWVBZYFlwWYBZkFmgWbBZwFnQWeBZ8FoAU=",
          "dtype": "i2"
         },
         "xaxis": "x",
         "y": {
          "bdata": "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",
          "dtype": "f8"
         },
         "yaxis": "y"
        }
       ],
       "layout": {
        "legend": {
         "title": {
          "text": "variable"
         },
         "tracegroupgap": 0
        },
        "margin": {
         "t": 60
        },
        "template": {
         "data": {
          "bar": [
           {
            "error_x": {
             "color": "#2a3f5f"
            },
            "error_y": {
             "color": "#2a3f5f"
            },
            "marker": {
             "line": {
              "color": "#E5ECF6",
              "width": 0.5
             },
             "pattern": {
              "fillmode": "overlay",
              "size": 10,
              "solidity": 0.2
             }
            },
            "type": "bar"
           }
          ],
          "barpolar": [
           {
            "marker": {
             "line": {
              "color": "#E5ECF6",
              "width": 0.5
             },
             "pattern": {
              "fillmode": "overlay",
              "size": 10,
              "solidity": 0.2
             }
            },
            "type": "barpolar"
           }
          ],
          "carpet": [
           {
            "aaxis": {
             "endlinecolor": "#2a3f5f",
             "gridcolor": "white",
             "linecolor": "white",
             "minorgridcolor": "white",
             "startlinecolor": "#2a3f5f"
            },
            "baxis": {
             "endlinecolor": "#2a3f5f",
             "gridcolor": "white",
             "linecolor": "white",
             "minorgridcolor": "white",
             "startlinecolor": "#2a3f5f"
            },
            "type": "carpet"
           }
          ],
          "choropleth": [
           {
            "colorbar": {
             "outlinewidth": 0,
             "ticks": ""
            },
            "type": "choropleth"
           }
          ],
          "contour": [
           {
            "colorbar": {
             "outlinewidth": 0,
             "ticks": ""
            },
            "colorscale": [
             [
              0,
              "#0d0887"
             ],
             [
              0.1111111111111111,
              "#46039f"
             ],
             [
              0.2222222222222222,
              "#7201a8"
             ],
             [
              0.3333333333333333,
              "#9c179e"
             ],
             [
              0.4444444444444444,
              "#bd3786"
             ],
             [
              0.5555555555555556,
              "#d8576b"
             ],
             [
              0.6666666666666666,
              "#ed7953"
             ],
             [
              0.7777777777777778,
              "#fb9f3a"
             ],
             [
              0.8888888888888888,
              "#fdca26"
             ],
             [
              1,
              "#f0f921"
             ]
            ],
            "type": "contour"
           }
          ],
          "contourcarpet": [
           {
            "colorbar": {
             "outlinewidth": 0,
             "ticks": ""
            },
            "type": "contourcarpet"
           }
          ],
          "heatmap": [
           {
            "colorbar": {
             "outlinewidth": 0,
             "ticks": ""
            },
            "colorscale": [
             [
              0,
              "#0d0887"
             ],
             [
              0.1111111111111111,
              "#46039f"
             ],
             [
              0.2222222222222222,
              "#7201a8"
             ],
             [
              0.3333333333333333,
              "#9c179e"
             ],
             [
              0.4444444444444444,
              "#bd3786"
             ],
             [
              0.5555555555555556,
              "#d8576b"
             ],
             [
              0.6666666666666666,
              "#ed7953"
             ],
             [
              0.7777777777777778,
              "#fb9f3a"
             ],
             [
              0.8888888888888888,
              "#fdca26"
             ],
             [
              1,
              "#f0f921"
             ]
            ],
            "type": "heatmap"
           }
          ],
          "histogram": [
           {
            "marker": {
             "pattern": {
              "fillmode": "overlay",
              "size": 10,
              "solidity": 0.2
             }
            },
            "type": "histogram"
           }
          ],
          "histogram2d": [
           {
            "colorbar": {
             "outlinewidth": 0,
             "ticks": ""
            },
            "colorscale": [
             [
              0,
              "#0d0887"
             ],
             [
              0.1111111111111111,
              "#46039f"
             ],
             [
              0.2222222222222222,
              "#7201a8"
             ],
             [
              0.3333333333333333,
              "#9c179e"
             ],
             [
              0.4444444444444444,
              "#bd3786"
             ],
             [
              0.5555555555555556,
              "#d8576b"
             ],
             [
              0.6666666666666666,
              "#ed7953"
             ],
             [
              0.7777777777777778,
              "#fb9f3a"
             ],
             [
              0.8888888888888888,
              "#fdca26"
             ],
             [
              1,
              "#f0f921"
             ]
            ],
            "type": "histogram2d"
           }
          ],
          "histogram2dcontour": [
           {
            "colorbar": {
             "outlinewidth": 0,
             "ticks": ""
            },
            "colorscale": [
             [
              0,
              "#0d0887"
             ],
             [
              0.1111111111111111,
              "#46039f"
             ],
             [
              0.2222222222222222,
              "#7201a8"
             ],
             [
              0.3333333333333333,
              "#9c179e"
             ],
             [
              0.4444444444444444,
              "#bd3786"
             ],
             [
              0.5555555555555556,
              "#d8576b"
             ],
             [
              0.6666666666666666,
              "#ed7953"
             ],
             [
              0.7777777777777778,
              "#fb9f3a"
             ],
             [
              0.8888888888888888,
              "#fdca26"
             ],
             [
              1,
              "#f0f921"
             ]
            ],
            "type": "histogram2dcontour"
           }
          ],
          "mesh3d": [
           {
            "colorbar": {
             "outlinewidth": 0,
             "ticks": ""
            },
            "type": "mesh3d"
           }
          ],
          "parcoords": [
           {
            "line": {
             "colorbar": {
              "outlinewidth": 0,
              "ticks": ""
             }
            },
            "type": "parcoords"
           }
          ],
          "pie": [
           {
            "automargin": true,
            "type": "pie"
           }
          ],
          "scatter": [
           {
            "fillpattern": {
             "fillmode": "overlay",
             "size": 10,
             "solidity": 0.2
            },
            "type": "scatter"
           }
          ],
          "scatter3d": [
           {
            "line": {
             "colorbar": {
              "outlinewidth": 0,
              "ticks": ""
             }
            },
            "marker": {
             "colorbar": {
              "outlinewidth": 0,
              "ticks": ""
             }
            },
            "type": "scatter3d"
           }
          ],
          "scattercarpet": [
           {
            "marker": {
             "colorbar": {
              "outlinewidth": 0,
              "ticks": ""
             }
            },
            "type": "scattercarpet"
           }
          ],
          "scattergeo": [
           {
            "marker": {
             "colorbar": {
              "outlinewidth": 0,
              "ticks": ""
             }
            },
            "type": "scattergeo"
           }
          ],
          "scattergl": [
           {
            "marker": {
             "colorbar": {
              "outlinewidth": 0,
              "ticks": ""
             }
            },
            "type": "scattergl"
           }
          ],
          "scattermap": [
           {
            "marker": {
             "colorbar": {
              "outlinewidth": 0,
              "ticks": ""
             }
            },
            "type": "scattermap"
           }
          ],
          "scattermapbox": [
           {
            "marker": {
             "colorbar": {
              "outlinewidth": 0,
              "ticks": ""
             }
            },
            "type": "scattermapbox"
           }
          ],
          "scatterpolar": [
           {
            "marker": {
             "colorbar": {
              "outlinewidth": 0,
              "ticks": ""
             }
            },
            "type": "scatterpolar"
           }
          ],
          "scatterpolargl": [
           {
            "marker": {
             "colorbar": {
              "outlinewidth": 0,
              "ticks": ""
             }
            },
            "type": "scatterpolargl"
           }
          ],
          "scatterternary": [
           {
            "marker": {
             "colorbar": {
              "outlinewidth": 0,
              "ticks": ""
             }
            },
            "type": "scatterternary"
           }
          ],
          "surface": [
           {
            "colorbar": {
             "outlinewidth": 0,
             "ticks": ""
            },
            "colorscale": [
             [
              0,
              "#0d0887"
             ],
             [
              0.1111111111111111,
              "#46039f"
             ],
             [
              0.2222222222222222,
              "#7201a8"
             ],
             [
              0.3333333333333333,
              "#9c179e"
             ],
             [
              0.4444444444444444,
              "#bd3786"
             ],
             [
              0.5555555555555556,
              "#d8576b"
             ],
             [
              0.6666666666666666,
              "#ed7953"
             ],
             [
              0.7777777777777778,
              "#fb9f3a"
             ],
             [
              0.8888888888888888,
              "#fdca26"
             ],
             [
              1,
              "#f0f921"
             ]
            ],
            "type": "surface"
           }
          ],
          "table": [
           {
            "cells": {
             "fill": {
              "color": "#EBF0F8"
             },
             "line": {
              "color": "white"
             }
            },
            "header": {
             "fill": {
              "color": "#C8D4E3"
             },
             "line": {
              "color": "white"
             }
            },
            "type": "table"
           }
          ]
         },
         "layout": {
          "annotationdefaults": {
           "arrowcolor": "#2a3f5f",
           "arrowhead": 0,
           "arrowwidth": 1
          },
          "autotypenumbers": "strict",
          "coloraxis": {
           "colorbar": {
            "outlinewidth": 0,
            "ticks": ""
           }
          },
          "colorscale": {
           "diverging": [
            [
             0,
             "#8e0152"
            ],
            [
             0.1,
             "#c51b7d"
            ],
            [
             0.2,
             "#de77ae"
            ],
            [
             0.3,
             "#f1b6da"
            ],
            [
             0.4,
             "#fde0ef"
            ],
            [
             0.5,
             "#f7f7f7"
            ],
            [
             0.6,
             "#e6f5d0"
            ],
            [
             0.7,
             "#b8e186"
            ],
            [
             0.8,
             "#7fbc41"
            ],
            [
             0.9,
             "#4d9221"
            ],
            [
             1,
             "#276419"
            ]
           ],
           "sequential": [
            [
             0,
             "#0d0887"
            ],
            [
             0.1111111111111111,
             "#46039f"
            ],
            [
             0.2222222222222222,
             "#7201a8"
            ],
            [
             0.3333333333333333,
             "#9c179e"
            ],
            [
             0.4444444444444444,
             "#bd3786"
            ],
            [
             0.5555555555555556,
             "#d8576b"
            ],
            [
             0.6666666666666666,
             "#ed7953"
            ],
            [
             0.7777777777777778,
             "#fb9f3a"
            ],
            [
             0.8888888888888888,
             "#fdca26"
            ],
            [
             1,
             "#f0f921"
            ]
           ],
           "sequentialminus": [
            [
             0,
             "#0d0887"
            ],
            [
             0.1111111111111111,
             "#46039f"
            ],
            [
             0.2222222222222222,
             "#7201a8"
            ],
            [
             0.3333333333333333,
             "#9c179e"
            ],
            [
             0.4444444444444444,
             "#bd3786"
            ],
            [
             0.5555555555555556,
             "#d8576b"
            ],
            [
             0.6666666666666666,
             "#ed7953"
            ],
            [
             0.7777777777777778,
             "#fb9f3a"
            ],
            [
             0.8888888888888888,
             "#fdca26"
            ],
            [
             1,
             "#f0f921"
            ]
           ]
          },
          "colorway": [
           "#636efa",
           "#EF553B",
           "#00cc96",
           "#ab63fa",
           "#FFA15A",
           "#19d3f3",
           "#FF6692",
           "#B6E880",
           "#FF97FF",
           "#FECB52"
          ],
          "font": {
           "color": "#2a3f5f"
          },
          "geo": {
           "bgcolor": "white",
           "lakecolor": "white",
           "landcolor": "#E5ECF6",
           "showlakes": true,
           "showland": true,
           "subunitcolor": "white"
          },
          "hoverlabel": {
           "align": "left"
          },
          "hovermode": "closest",
          "mapbox": {
           "style": "light"
          },
          "paper_bgcolor": "white",
          "plot_bgcolor": "#E5ECF6",
          "polar": {
           "angularaxis": {
            "gridcolor": "white",
            "linecolor": "white",
            "ticks": ""
           },
           "bgcolor": "#E5ECF6",
           "radialaxis": {
            "gridcolor": "white",
            "linecolor": "white",
            "ticks": ""
           }
          },
          "scene": {
           "xaxis": {
            "backgroundcolor": "#E5ECF6",
            "gridcolor": "white",
            "gridwidth": 2,
            "linecolor": "white",
            "showbackground": true,
            "ticks": "",
            "zerolinecolor": "white"
           },
           "yaxis": {
            "backgroundcolor": "#E5ECF6",
            "gridcolor": "white",
            "gridwidth": 2,
            "linecolor": "white",
            "showbackground": true,
            "ticks": "",
            "zerolinecolor": "white"
           },
           "zaxis": {
            "backgroundcolor": "#E5ECF6",
            "gridcolor": "white",
            "gridwidth": 2,
            "linecolor": "white",
            "showbackground": true,
            "ticks": "",
            "zerolinecolor": "white"
           }
          },
          "shapedefaults": {
           "line": {
            "color": "#2a3f5f"
           }
          },
          "ternary": {
           "aaxis": {
            "gridcolor": "white",
            "linecolor": "white",
            "ticks": ""
           },
           "baxis": {
            "gridcolor": "white",
            "linecolor": "white",
            "ticks": ""
           },
           "bgcolor": "#E5ECF6",
           "caxis": {
            "gridcolor": "white",
            "linecolor": "white",
            "ticks": ""
           }
          },
          "title": {
           "x": 0.05
          },
          "xaxis": {
           "automargin": true,
           "gridcolor": "white",
           "linecolor": "white",
           "ticks": "",
           "title": {
            "standoff": 15
           },
           "zerolinecolor": "white",
           "zerolinewidth": 2
          },
          "yaxis": {
           "automargin": true,
           "gridcolor": "white",
           "linecolor": "white",
           "ticks": "",
           "title": {
            "standoff": 15
           },
           "zerolinecolor": "white",
           "zerolinewidth": 2
          }
         }
        },
        "xaxis": {
         "anchor": "y",
         "domain": [
          0,
          1
         ],
         "title": {
          "text": "index"
         }
        },
        "yaxis": {
         "anchor": "x",
         "domain": [
          0,
          1
         ],
         "title": {
          "text": "value"
         }
        }
       }
      },
      "image/png": "[encoded data removed]"
     },
     "metadata": {},
     "output_type": "display_data"
    }
   ],
   "source": [
    "# 绘制折线图\n",
    "fig = px.line(df)\n",
    "fig.show()"
   ]
  },
  {
   "cell_type": "code",
   "execution_count": null,
   "id": "b1b94558-1eb7-497d-9d9a-bd2ef67f4a8e",
   "metadata": {},
   "outputs": [],
   "source": []
  }
 ],
 "metadata": {
  "kernelspec": {
   "display_name": "Python 3 (ipykernel)",
   "language": "python",
   "name": "python3"
  },
  "language_info": {
   "codemirror_mode": {
    "name": "ipython",
    "version": 3
   },
   "file_extension": ".py",
   "mimetype": "text/x-python",
   "name": "python",
   "nbconvert_exporter": "python",
   "pygments_lexer": "ipython3",
   "version": "3.12.4"
  }
 },
 "nbformat": 4,
 "nbformat_minor": 5
}
