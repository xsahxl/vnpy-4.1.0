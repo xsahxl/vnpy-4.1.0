{
 "cells": [
  {
   "cell_type": "code",
   "execution_count": 1,
   "id": "7b04f3f3-7872-4a98-8ac1-e2b91f6a79ec",
   "metadata": {},
   "outputs": [],
   "source": [
    "import numpy as np"
   ]
  },
  {
   "cell_type": "code",
   "execution_count": 2,
   "id": "196880f4-d4c8-430f-8e15-39a80c585069",
   "metadata": {},
   "outputs": [],
   "source": [
    "# 生成随机数组\n",
    "data = np.random.randn(10)"
   ]
  },
  {
   "cell_type": "code",
   "execution_count": 3,
   "id": "1372d7a9-3b1c-4291-963b-6c123a799411",
   "metadata": {},
   "outputs": [
    {
     "data": {
      "text/plain": [
       "array([ 0.22679784,  1.7904428 ,  0.30575312,  1.47957756,  0.16784041,\n",
       "        0.67751505,  0.93379422, -0.13666222, -0.23959557,  0.16239198])"
      ]
     },
     "execution_count": 3,
     "metadata": {},
     "output_type": "execute_result"
    }
   ],
   "source": [
    "# 查看数据\n",
    "data"
   ]
  },
  {
   "cell_type": "code",
   "execution_count": 4,
   "id": "3ad16e03-f8f3-4e43-9bed-52ac4b86fa34",
   "metadata": {},
   "outputs": [
    {
     "data": {
      "text/plain": [
       "array([ 0.45359568,  3.5808856 ,  0.61150624,  2.95915513,  0.33568082,\n",
       "        1.35503009,  1.86758844, -0.27332443, -0.47919114,  0.32478395])"
      ]
     },
     "execution_count": 4,
     "metadata": {},
     "output_type": "execute_result"
    }
   ],
   "source": [
    "# 数组运算\n",
    "data + data"
   ]
  },
  {
   "cell_type": "code",
   "execution_count": 5,
   "id": "97229356-d081-4e86-a07e-fb6b05cc394a",
   "metadata": {},
   "outputs": [
    {
     "data": {
      "text/plain": [
       "array([ 2.26797838, 17.90442798,  3.05753121, 14.79577563,  1.67840408,\n",
       "        6.77515047,  9.33794219, -1.36662216, -2.39595568,  1.62391976])"
      ]
     },
     "execution_count": 5,
     "metadata": {},
     "output_type": "execute_result"
    }
   ],
   "source": [
    "data * 10"
   ]
  },
  {
   "cell_type": "code",
   "execution_count": 6,
   "id": "712825bf-0090-41b3-9bdd-a1a968ccd948",
   "metadata": {},
   "outputs": [],
   "source": [
    "# 创建数组对象\n",
    "data1 = [3, 4, 5, 6, 7, 8]\n",
    "arr1 = np.array(data1)"
   ]
  },
  {
   "cell_type": "code",
   "execution_count": 7,
   "id": "3ab06b7c-0543-4b00-8ebc-6979f02d907d",
   "metadata": {},
   "outputs": [
    {
     "data": {
      "text/plain": [
       "numpy.ndarray"
      ]
     },
     "execution_count": 7,
     "metadata": {},
     "output_type": "execute_result"
    }
   ],
   "source": [
    "# 查看数组类型\n",
    "type(arr1)"
   ]
  },
  {
   "cell_type": "code",
   "execution_count": 8,
   "id": "728e29db-3759-494a-a586-16319a21c03d",
   "metadata": {},
   "outputs": [
    {
     "data": {
      "text/plain": [
       "array([3, 4, 5, 6, 7, 8])"
      ]
     },
     "execution_count": 8,
     "metadata": {},
     "output_type": "execute_result"
    }
   ],
   "source": [
    "# 查看数组内容\n",
    "arr1"
   ]
  },
  {
   "cell_type": "code",
   "execution_count": 9,
   "id": "f9bac42b-fe12-4051-8350-e1392325b29c",
   "metadata": {},
   "outputs": [],
   "source": [
    "# 二维数组\n",
    "data2 = [\n",
    "    [1, 3, 5, 7, 9],\n",
    "    [2, 4, 6, 8, 10]\n",
    "]\n",
    "arr2 = np.array(data2)"
   ]
  },
  {
   "cell_type": "code",
   "execution_count": 10,
   "id": "5c89be5d-5de1-4ee6-9073-323a23406609",
   "metadata": {},
   "outputs": [
    {
     "data": {
      "text/plain": [
       "array([[ 1,  3,  5,  7,  9],\n",
       "       [ 2,  4,  6,  8, 10]])"
      ]
     },
     "execution_count": 10,
     "metadata": {},
     "output_type": "execute_result"
    }
   ],
   "source": [
    "# 查看数组\n",
    "arr2"
   ]
  },
  {
   "cell_type": "code",
   "execution_count": 11,
   "id": "7964852e-6776-4560-a951-405fb9e3118f",
   "metadata": {},
   "outputs": [
    {
     "data": {
      "text/plain": [
       "2"
      ]
     },
     "execution_count": 11,
     "metadata": {},
     "output_type": "execute_result"
    }
   ],
   "source": [
    "# 查看数组维度\n",
    "arr2.ndim"
   ]
  },
  {
   "cell_type": "code",
   "execution_count": 12,
   "id": "73ce0ce2-52d9-44c8-a494-b7ab3eae0983",
   "metadata": {},
   "outputs": [
    {
     "data": {
      "text/plain": [
       "(2, 5)"
      ]
     },
     "execution_count": 12,
     "metadata": {},
     "output_type": "execute_result"
    }
   ],
   "source": [
    "# 查看数组形状\n",
    "arr2.shape"
   ]
  },
  {
   "cell_type": "code",
   "execution_count": 13,
   "id": "ff13a490-a43c-49bc-875a-b5c2bbe35a9b",
   "metadata": {},
   "outputs": [
    {
     "data": {
      "text/plain": [
       "dtype('int64')"
      ]
     },
     "execution_count": 13,
     "metadata": {},
     "output_type": "execute_result"
    }
   ],
   "source": [
    "# 查看数据类型\n",
    "arr2.dtype"
   ]
  },
  {
   "cell_type": "code",
   "execution_count": 14,
   "id": "831700bf-ef5f-4bae-91af-5f9bdc622bbe",
   "metadata": {},
   "outputs": [],
   "source": [
    "# 转换为浮点数数组\n",
    "arr3 = arr2.astype(\"float\")"
   ]
  },
  {
   "cell_type": "code",
   "execution_count": 15,
   "id": "2e2de283-9740-440e-8245-a458cb58d933",
   "metadata": {},
   "outputs": [
    {
     "data": {
      "text/plain": [
       "array([[ 1.,  3.,  5.,  7.,  9.],\n",
       "       [ 2.,  4.,  6.,  8., 10.]])"
      ]
     },
     "execution_count": 15,
     "metadata": {},
     "output_type": "execute_result"
    }
   ],
   "source": [
    "arr3"
   ]
  },
  {
   "cell_type": "code",
   "execution_count": 16,
   "id": "d94caee2-4776-460f-9c1a-071b9b3e9631",
   "metadata": {},
   "outputs": [
    {
     "data": {
      "text/plain": [
       "dtype('float64')"
      ]
     },
     "execution_count": 16,
     "metadata": {},
     "output_type": "execute_result"
    }
   ],
   "source": [
    "arr3.dtype"
   ]
  },
  {
   "cell_type": "code",
   "execution_count": 19,
   "id": "f9d7a7c6-beab-45cd-98ba-77e5ffeaadb4",
   "metadata": {},
   "outputs": [],
   "source": [
    "from enum import Enum\n",
    "class Interval(Enum):\n",
    "    \"\"\"K线周期\"\"\"\n",
    "    MINUTE_1 = \"1m\"\n",
    "    MINUTE_5 = \"5m\"\n",
    "    MINUTE_15 = \"15m\"\n",
    "    MINUTE_30 = \"30m\"\n",
    "    HOUR_1 = \"1h\"\n",
    "    HOUR_4 = \"4h\"\n",
    "    HOUR_6 = \"6h\"\n",
    "    HOUR_12 = \"12h\"\n",
    "    DAY_1 = \"1d\"\n",
    "    WEEK_1 = \"1w\"\n",
    "    MONTH_1 = \"1M\""
   ]
  },
  {
   "cell_type": "code",
   "execution_count": 23,
   "id": "f09b1773-5d91-4929-8a3e-7265bf23bd0c",
   "metadata": {},
   "outputs": [],
   "source": [
    "from datetime import datetime, timedelta\n",
    "batch_sizes = {\n",
    "    Interval.MINUTE_1: timedelta(days=1),  # 1分钟数据，1天一批\n",
    "    Interval.MINUTE_5: timedelta(days=7),  # 5分钟数据，7天一批\n",
    "    Interval.MINUTE_15: timedelta(days=30),  # 15分钟数据，30天一批\n",
    "    Interval.MINUTE_30: timedelta(days=60),  # 30分钟数据，60天一批\n",
    "    Interval.HOUR_1: timedelta(days=90),  # 1小时数据，90天一批\n",
    "    Interval.HOUR_4: timedelta(days=180),  # 4小时数据，180天一批\n",
    "    Interval.HOUR_6: timedelta(days=365),  # 6小时数据，365天一批\n",
    "    Interval.HOUR_12: timedelta(days=365),  # 12小时数据，365天一批\n",
    "    Interval.DAY_1: timedelta(days=365 * 2),  # 日线数据，2年一批\n",
    "    Interval.WEEK_1: timedelta(days=365 * 5),  # 周线数据，5年一批\n",
    "    Interval.MONTH_1: timedelta(days=365 * 10),  # 月线数据，10年一批\n",
    "}"
   ]
  },
  {
   "cell_type": "code",
   "execution_count": 25,
   "id": "934ec658-bfd8-455d-ba31-d091ef6a1e33",
   "metadata": {},
   "outputs": [
    {
     "data": {
      "text/plain": [
       "<Interval.HOUR_1: '1h'>"
      ]
     },
     "execution_count": 25,
     "metadata": {},
     "output_type": "execute_result"
    }
   ],
   "source": [
    "Interval.HOUR_1"
   ]
  },
  {
   "cell_type": "code",
   "execution_count": 26,
   "id": "62d2dacb-042e-42c0-a11b-204cade6d24a",
   "metadata": {},
   "outputs": [
    {
     "data": {
      "text/plain": [
       "datetime.timedelta(days=90)"
      ]
     },
     "execution_count": 26,
     "metadata": {},
     "output_type": "execute_result"
    }
   ],
   "source": [
    "interval = Interval.HOUR_1\n",
    "batch_sizes.get(interval)"
   ]
  },
  {
   "cell_type": "code",
   "execution_count": 28,
   "id": "bd45d4c6-e7f8-4b4b-85b1-7eb49e64c693",
   "metadata": {},
   "outputs": [],
   "source": [
    "a = batch_sizes.get(interval.value)"
   ]
  },
  {
   "cell_type": "code",
   "execution_count": 29,
   "id": "a7de0565-0cf1-4db3-8cac-3ac76aecacba",
   "metadata": {},
   "outputs": [],
   "source": [
    "a"
   ]
  },
  {
   "cell_type": "code",
   "execution_count": null,
   "id": "336b1f67-c98c-4245-a1a1-a154296fdd6f",
   "metadata": {},
   "outputs": [],
   "source": []
  }
 ],
 "metadata": {
  "kernelspec": {
   "display_name": "Python 3 (ipykernel)",
   "language": "python",
   "name": "python3"
  },
  "language_info": {
   "codemirror_mode": {
    "name": "ipython",
    "version": 3
   },
   "file_extension": ".py",
   "mimetype": "text/x-python",
   "name": "python",
   "nbconvert_exporter": "python",
   "pygments_lexer": "ipython3",
   "version": "3.12.4"
  }
 },
 "nbformat": 4,
 "nbformat_minor": 5
}
