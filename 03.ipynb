{
 "cells": [
  {
   "cell_type": "code",
   "execution_count": 2,
   "id": "7f18983d-f98f-42d2-a58a-8f5a536d2886",
   "metadata": {},
   "outputs": [],
   "source": [
    "# 加载模块\n",
    "import requests\n",
    "\n",
    "from datetime import datetime\n",
    "from pytz import timezone\n",
    "from time import sleep\n",
    "\n",
    "from vnpy.trader.object import BarData\n",
    "from vnpy.trader.constant import Exchange, Interval"
   ]
  },
  {
   "cell_type": "code",
   "execution_count": 3,
   "id": "6fa527df-201a-4e4f-ba08-d66d91a50d49",
   "metadata": {},
   "outputs": [],
   "source": [
    "# 构建访问链接\n",
    "base = \"https://api.binance.com\"\n",
    "endpoint = \"/api/v3/time\"\n",
    "url = base + endpoint"
   ]
  },
  {
   "cell_type": "code",
   "execution_count": 4,
   "id": "caadc233-c8bb-43c8-9b7d-56f773147627",
   "metadata": {},
   "outputs": [
    {
     "data": {
      "text/plain": [
       "{'serverTime': 1756612616629}"
      ]
     },
     "execution_count": 4,
     "metadata": {},
     "output_type": "execute_result"
    }
   ],
   "source": [
    "# 获取服务器时间\n",
    "r = requests.get(url)\n",
    "r.json()"
   ]
  },
  {
   "cell_type": "code",
   "execution_count": 4,
   "id": "4c633acd-b9af-4a5d-a555-a27cf9860995",
   "metadata": {},
   "outputs": [],
   "source": [
    "endpoint = \"/api/v3/ticker/bookTicker\"\n",
    "url = base + endpoint"
   ]
  },
  {
   "cell_type": "code",
   "execution_count": 5,
   "id": "b1b1d022-4ac5-4c2a-b529-f5677e7d7a04",
   "metadata": {},
   "outputs": [],
   "source": [
    "params = {\"symbol\": \"BTCUSDT\"}"
   ]
  },
  {
   "cell_type": "code",
   "execution_count": 6,
   "id": "014bc445-cb25-4e1f-838a-cc65cce3f0c5",
   "metadata": {},
   "outputs": [
    {
     "data": {
      "text/plain": [
       "{'symbol': 'BTCUSDT',\n",
       " 'bidPrice': '109222.46000000',\n",
       " 'bidQty': '4.14224000',\n",
       " 'askPrice': '109222.47000000',\n",
       " 'askQty': '6.69309000'}"
      ]
     },
     "execution_count": 6,
     "metadata": {},
     "output_type": "execute_result"
    }
   ],
   "source": [
    "r = requests.get(url, params=params)\n",
    "r.json()"
   ]
  },
  {
   "cell_type": "code",
   "execution_count": 7,
   "id": "7d727743-0e5d-45a3-aeaa-ae5acee691f3",
   "metadata": {},
   "outputs": [
    {
     "name": "stdout",
     "output_type": "stream",
     "text": [
      "BTCUSDT. 买价109222.46000000[4.18795000], 卖价109222.47000000[6.69251000]\n",
      "BTCUSDT. 买价109222.46000000[4.18800000], 卖价109222.47000000[5.79309000]\n",
      "BTCUSDT. 买价109222.46000000[5.79888000], 卖价109222.47000000[3.48560000]\n",
      "BTCUSDT. 买价109222.46000000[5.80585000], 卖价109222.47000000[3.96647000]\n"
     ]
    },
    {
     "ename": "KeyboardInterrupt",
     "evalue": "",
     "output_type": "error",
     "traceback": [
      "\u001b[31m---------------------------------------------------------------------------\u001b[39m",
      "\u001b[31mKeyboardInterrupt\u001b[39m                         Traceback (most recent call last)",
      "\u001b[36mCell\u001b[39m\u001b[36m \u001b[39m\u001b[32mIn[7]\u001b[39m\u001b[32m, line 4\u001b[39m\n\u001b[32m      2\u001b[39m \u001b[38;5;28;01mwhile\u001b[39;00m \u001b[38;5;28;01mTrue\u001b[39;00m:\n\u001b[32m      3\u001b[39m     r = requests.get(url, params=params)\n\u001b[32m----> \u001b[39m\u001b[32m4\u001b[39m     d = \u001b[43mr\u001b[49m\u001b[43m.\u001b[49m\u001b[43mjson\u001b[49m\u001b[43m(\u001b[49m\u001b[43m)\u001b[49m\n\u001b[32m      6\u001b[39m     symbol = d[\u001b[33m\"\u001b[39m\u001b[33msymbol\u001b[39m\u001b[33m\"\u001b[39m]\n\u001b[32m      7\u001b[39m     bp = d[\u001b[33m\"\u001b[39m\u001b[33mbidPrice\u001b[39m\u001b[33m\"\u001b[39m]\n",
      "\u001b[36mFile \u001b[39m\u001b[32m~/Downloads/vnpy-4.1.0/venv/lib/python3.12/site-packages/requests/models.py:947\u001b[39m, in \u001b[36mResponse.json\u001b[39m\u001b[34m(self, **kwargs)\u001b[39m\n\u001b[32m    943\u001b[39m         content = \u001b[38;5;28mstr\u001b[39m(\u001b[38;5;28mself\u001b[39m.content, errors=\u001b[33m\"\u001b[39m\u001b[33mreplace\u001b[39m\u001b[33m\"\u001b[39m)\n\u001b[32m    945\u001b[39m     \u001b[38;5;28;01mreturn\u001b[39;00m content\n\u001b[32m--> \u001b[39m\u001b[32m947\u001b[39m \u001b[38;5;28;01mdef\u001b[39;00m\u001b[38;5;250m \u001b[39m\u001b[34mjson\u001b[39m(\u001b[38;5;28mself\u001b[39m, **kwargs):\n\u001b[32m    948\u001b[39m \u001b[38;5;250m    \u001b[39m\u001b[33mr\u001b[39m\u001b[33;03m\"\"\"Decodes the JSON response body (if any) as a Python object.\u001b[39;00m\n\u001b[32m    949\u001b[39m \n\u001b[32m    950\u001b[39m \u001b[33;03m    This may return a dictionary, list, etc. depending on what is in the response.\u001b[39;00m\n\u001b[32m   (...)\u001b[39m\u001b[32m    954\u001b[39m \u001b[33;03m        contain valid json.\u001b[39;00m\n\u001b[32m    955\u001b[39m \u001b[33;03m    \"\"\"\u001b[39;00m\n\u001b[32m    957\u001b[39m     \u001b[38;5;28;01mif\u001b[39;00m \u001b[38;5;129;01mnot\u001b[39;00m \u001b[38;5;28mself\u001b[39m.encoding \u001b[38;5;129;01mand\u001b[39;00m \u001b[38;5;28mself\u001b[39m.content \u001b[38;5;129;01mand\u001b[39;00m \u001b[38;5;28mlen\u001b[39m(\u001b[38;5;28mself\u001b[39m.content) > \u001b[32m3\u001b[39m:\n\u001b[32m    958\u001b[39m         \u001b[38;5;66;03m# No encoding set. JSON RFC 4627 section 3 states we should expect\u001b[39;00m\n\u001b[32m    959\u001b[39m         \u001b[38;5;66;03m# UTF-8, -16 or -32. Detect which one to use; If the detection or\u001b[39;00m\n\u001b[32m    960\u001b[39m         \u001b[38;5;66;03m# decoding fails, fall back to `self.text` (using charset_normalizer to make\u001b[39;00m\n\u001b[32m    961\u001b[39m         \u001b[38;5;66;03m# a best guess).\u001b[39;00m\n",
      "\u001b[31mKeyboardInterrupt\u001b[39m: "
     ]
    }
   ],
   "source": [
    "# 持续轮询输出\n",
    "while True:\n",
    "    r = requests.get(url, params=params)\n",
    "    d = r.json()\n",
    "\n",
    "    symbol = d[\"symbol\"]\n",
    "    bp = d[\"bidPrice\"]\n",
    "    bq = d[\"bidQty\"]\n",
    "    ap = d[\"askPrice\"]\n",
    "    aq = d[\"askQty\"]\n",
    "\n",
    "    msg = f\"{symbol}. 买价{bp}[{bq}], 卖价{ap}[{aq}]\"\n",
    "    print(msg)\n",
    "    sleep(1)"
   ]
  },
  {
   "cell_type": "code",
   "execution_count": 12,
   "id": "0292774b-43d7-44ab-84fd-7dce99b2f40f",
   "metadata": {},
   "outputs": [],
   "source": [
    "# 这次来查询K线\n",
    "endpoint = \"/api/v3/klines\"\n",
    "url = base + endpoint"
   ]
  },
  {
   "cell_type": "code",
   "execution_count": 13,
   "id": "0d232c35-0c8e-4cf0-9fa6-edf776251e1f",
   "metadata": {},
   "outputs": [],
   "source": [
    "# 构建查询参数\n",
    "params = {\n",
    "    \"symbol\": \"BTCUSDT\",\n",
    "    \"interval\": \"1m\"\n",
    "}"
   ]
  },
  {
   "cell_type": "code",
   "execution_count": 14,
   "id": "3e1b692d-dc54-4973-9df3-f0c064b60d8b",
   "metadata": {},
   "outputs": [],
   "source": [
    "# 发起K线查询请求\n",
    "r = requests.get(url, params=params)\n",
    "data = r.json()"
   ]
  },
  {
   "cell_type": "code",
   "execution_count": 15,
   "id": "c763e3c8-e87b-4461-8c8a-7a8d9ead166c",
   "metadata": {},
   "outputs": [
    {
     "data": {
      "text/plain": [
       "list"
      ]
     },
     "execution_count": 15,
     "metadata": {},
     "output_type": "execute_result"
    }
   ],
   "source": [
    "# 查看数据类型\n",
    "type(data)"
   ]
  },
  {
   "cell_type": "code",
   "execution_count": 16,
   "id": "3362d15f-784a-4ae4-ac23-660d88a7e3e6",
   "metadata": {},
   "outputs": [
    {
     "data": {
      "text/plain": [
       "[1756581480000,\n",
       " '108741.71000000',\n",
       " '108741.71000000',\n",
       " '108740.15000000',\n",
       " '108740.15000000',\n",
       " '0.92041000',\n",
       " 1756581539999,\n",
       " '100086.39210130',\n",
       " 226,\n",
       " '0.30279000',\n",
       " '32925.48024390',\n",
       " '0']"
      ]
     },
     "execution_count": 16,
     "metadata": {},
     "output_type": "execute_result"
    }
   ],
   "source": [
    "# 查看具体数据\n",
    "data[0]"
   ]
  },
  {
   "cell_type": "code",
   "execution_count": 17,
   "id": "caec68a5-146d-4a47-be5f-e912e8e7ceb7",
   "metadata": {},
   "outputs": [],
   "source": [
    "# 开放K线查询函数\n",
    "CHINA_TZ = timezone(\"Asia/Shanghai\")\n",
    "\n",
    "def download_binance_minute_data(symbol: str):\n",
    "    \"\"\"基于代码和交易所下载数据\"\"\"\n",
    "    base = \"https://api.binance.com\"\n",
    "    endpoint = \"/api/v3/klines\"\n",
    "    url = base + endpoint\n",
    "\n",
    "    params = {\n",
    "        \"symbol\": symbol,\n",
    "        \"interval\": \"1m\"\n",
    "    }\n",
    "\n",
    "    r = requests.get(url, params=params)\n",
    "    data = r.json()\n",
    "\n",
    "    bar_data = []\n",
    "    for l in data:\n",
    "        dt = datetime.fromtimestamp(l[0]/1000)\n",
    "        bar = BarData(\n",
    "            symbol=symbol,\n",
    "            exchange=Exchange.BINANCE,\n",
    "            datetime=CHINA_TZ.localize(dt),\n",
    "            interval=Interval.MINUTE,\n",
    "            open_price=float(l[1]),\n",
    "            high_price=float(l[2]),\n",
    "            low_price=float(l[3]),\n",
    "            close_price=float(l[4]),\n",
    "            volume=float(l[5]),\n",
    "            gateway_name=\"BINANCE\"\n",
    "        )\n",
    "        bar_data.append(bar)\n",
    "    return bar_data"
   ]
  },
  {
   "cell_type": "code",
   "execution_count": 19,
   "id": "707889ef-d1dd-437d-bcb1-3154aa8b0745",
   "metadata": {},
   "outputs": [
    {
     "data": {
      "text/plain": [
       "BarData(gateway_name='BINANCE', extra=None, symbol='BTCUSDT', exchange=<Exchange.BINANCE: 'BINANCE'>, datetime=datetime.datetime(2025, 8, 31, 3, 18, tzinfo=<DstTzInfo 'Asia/Shanghai' CST+8:00:00 STD>), interval=<Interval.MINUTE: '1m'>, volume=0.92041, turnover=0, open_interest=0, open_price=108741.71, high_price=108741.71, low_price=108740.15, close_price=108740.15)"
      ]
     },
     "execution_count": 19,
     "metadata": {},
     "output_type": "execute_result"
    }
   ],
   "source": [
    "# 测试一下结果\n",
    "bar_data = download_binance_minute_data(\"BTCUSDT\")\n",
    "bar_data[0]"
   ]
  },
  {
   "cell_type": "code",
   "execution_count": 22,
   "id": "c88bb0c0-8efc-4954-b9b5-5853e1d7cc83",
   "metadata": {},
   "outputs": [],
   "source": [
    "import pandas as pd\n",
    "df = pd.DataFrame.from_records([bar.__dict__ for bar in bar_data])"
   ]
  },
  {
   "cell_type": "code",
   "execution_count": 23,
   "id": "793af476-3cfd-4138-9158-02357a5603bd",
   "metadata": {},
   "outputs": [
    {
     "data": {
      "text/html": [
       "<div>\n",
       "<style scoped>\n",
       "    .dataframe tbody tr th:only-of-type {\n",
       "        vertical-align: middle;\n",
       "    }\n",
       "\n",
       "    .dataframe tbody tr th {\n",
       "        vertical-align: top;\n",
       "    }\n",
       "\n",
       "    .dataframe thead th {\n",
       "        text-align: right;\n",
       "    }\n",
       "</style>\n",
       "<table border=\"1\" class=\"dataframe\">\n",
       "  <thead>\n",
       "    <tr style=\"text-align: right;\">\n",
       "      <th></th>\n",
       "      <th>gateway_name</th>\n",
       "      <th>symbol</th>\n",
       "      <th>exchange</th>\n",
       "      <th>datetime</th>\n",
       "      <th>interval</th>\n",
       "      <th>volume</th>\n",
       "      <th>turnover</th>\n",
       "      <th>open_interest</th>\n",
       "      <th>open_price</th>\n",
       "      <th>high_price</th>\n",
       "      <th>low_price</th>\n",
       "      <th>close_price</th>\n",
       "      <th>vt_symbol</th>\n",
       "    </tr>\n",
       "  </thead>\n",
       "  <tbody>\n",
       "    <tr>\n",
       "      <th>0</th>\n",
       "      <td>BINANCE</td>\n",
       "      <td>BTCUSDT</td>\n",
       "      <td>Exchange.BINANCE</td>\n",
       "      <td>2025-08-31 03:18:00+08:00</td>\n",
       "      <td>Interval.MINUTE</td>\n",
       "      <td>0.92041</td>\n",
       "      <td>0</td>\n",
       "      <td>0</td>\n",
       "      <td>108741.71</td>\n",
       "      <td>108741.71</td>\n",
       "      <td>108740.15</td>\n",
       "      <td>108740.15</td>\n",
       "      <td>BTCUSDT.BINANCE</td>\n",
       "    </tr>\n",
       "    <tr>\n",
       "      <th>1</th>\n",
       "      <td>BINANCE</td>\n",
       "      <td>BTCUSDT</td>\n",
       "      <td>Exchange.BINANCE</td>\n",
       "      <td>2025-08-31 03:19:00+08:00</td>\n",
       "      <td>Interval.MINUTE</td>\n",
       "      <td>5.56694</td>\n",
       "      <td>0</td>\n",
       "      <td>0</td>\n",
       "      <td>108740.16</td>\n",
       "      <td>108769.30</td>\n",
       "      <td>108740.15</td>\n",
       "      <td>108769.30</td>\n",
       "      <td>BTCUSDT.BINANCE</td>\n",
       "    </tr>\n",
       "    <tr>\n",
       "      <th>2</th>\n",
       "      <td>BINANCE</td>\n",
       "      <td>BTCUSDT</td>\n",
       "      <td>Exchange.BINANCE</td>\n",
       "      <td>2025-08-31 03:20:00+08:00</td>\n",
       "      <td>Interval.MINUTE</td>\n",
       "      <td>0.19891</td>\n",
       "      <td>0</td>\n",
       "      <td>0</td>\n",
       "      <td>108769.30</td>\n",
       "      <td>108769.30</td>\n",
       "      <td>108769.29</td>\n",
       "      <td>108769.30</td>\n",
       "      <td>BTCUSDT.BINANCE</td>\n",
       "    </tr>\n",
       "    <tr>\n",
       "      <th>3</th>\n",
       "      <td>BINANCE</td>\n",
       "      <td>BTCUSDT</td>\n",
       "      <td>Exchange.BINANCE</td>\n",
       "      <td>2025-08-31 03:21:00+08:00</td>\n",
       "      <td>Interval.MINUTE</td>\n",
       "      <td>1.43955</td>\n",
       "      <td>0</td>\n",
       "      <td>0</td>\n",
       "      <td>108769.30</td>\n",
       "      <td>108769.30</td>\n",
       "      <td>108753.92</td>\n",
       "      <td>108753.92</td>\n",
       "      <td>BTCUSDT.BINANCE</td>\n",
       "    </tr>\n",
       "    <tr>\n",
       "      <th>4</th>\n",
       "      <td>BINANCE</td>\n",
       "      <td>BTCUSDT</td>\n",
       "      <td>Exchange.BINANCE</td>\n",
       "      <td>2025-08-31 03:22:00+08:00</td>\n",
       "      <td>Interval.MINUTE</td>\n",
       "      <td>0.94639</td>\n",
       "      <td>0</td>\n",
       "      <td>0</td>\n",
       "      <td>108753.93</td>\n",
       "      <td>108753.93</td>\n",
       "      <td>108736.50</td>\n",
       "      <td>108736.50</td>\n",
       "      <td>BTCUSDT.BINANCE</td>\n",
       "    </tr>\n",
       "    <tr>\n",
       "      <th>...</th>\n",
       "      <td>...</td>\n",
       "      <td>...</td>\n",
       "      <td>...</td>\n",
       "      <td>...</td>\n",
       "      <td>...</td>\n",
       "      <td>...</td>\n",
       "      <td>...</td>\n",
       "      <td>...</td>\n",
       "      <td>...</td>\n",
       "      <td>...</td>\n",
       "      <td>...</td>\n",
       "      <td>...</td>\n",
       "      <td>...</td>\n",
       "    </tr>\n",
       "    <tr>\n",
       "      <th>495</th>\n",
       "      <td>BINANCE</td>\n",
       "      <td>BTCUSDT</td>\n",
       "      <td>Exchange.BINANCE</td>\n",
       "      <td>2025-08-31 11:33:00+08:00</td>\n",
       "      <td>Interval.MINUTE</td>\n",
       "      <td>0.90271</td>\n",
       "      <td>0</td>\n",
       "      <td>0</td>\n",
       "      <td>109179.59</td>\n",
       "      <td>109190.01</td>\n",
       "      <td>109179.58</td>\n",
       "      <td>109188.33</td>\n",
       "      <td>BTCUSDT.BINANCE</td>\n",
       "    </tr>\n",
       "    <tr>\n",
       "      <th>496</th>\n",
       "      <td>BINANCE</td>\n",
       "      <td>BTCUSDT</td>\n",
       "      <td>Exchange.BINANCE</td>\n",
       "      <td>2025-08-31 11:34:00+08:00</td>\n",
       "      <td>Interval.MINUTE</td>\n",
       "      <td>2.32748</td>\n",
       "      <td>0</td>\n",
       "      <td>0</td>\n",
       "      <td>109188.33</td>\n",
       "      <td>109213.63</td>\n",
       "      <td>109188.32</td>\n",
       "      <td>109213.63</td>\n",
       "      <td>BTCUSDT.BINANCE</td>\n",
       "    </tr>\n",
       "    <tr>\n",
       "      <th>497</th>\n",
       "      <td>BINANCE</td>\n",
       "      <td>BTCUSDT</td>\n",
       "      <td>Exchange.BINANCE</td>\n",
       "      <td>2025-08-31 11:35:00+08:00</td>\n",
       "      <td>Interval.MINUTE</td>\n",
       "      <td>5.75109</td>\n",
       "      <td>0</td>\n",
       "      <td>0</td>\n",
       "      <td>109213.62</td>\n",
       "      <td>109238.00</td>\n",
       "      <td>109213.62</td>\n",
       "      <td>109238.00</td>\n",
       "      <td>BTCUSDT.BINANCE</td>\n",
       "    </tr>\n",
       "    <tr>\n",
       "      <th>498</th>\n",
       "      <td>BINANCE</td>\n",
       "      <td>BTCUSDT</td>\n",
       "      <td>Exchange.BINANCE</td>\n",
       "      <td>2025-08-31 11:36:00+08:00</td>\n",
       "      <td>Interval.MINUTE</td>\n",
       "      <td>0.82804</td>\n",
       "      <td>0</td>\n",
       "      <td>0</td>\n",
       "      <td>109238.00</td>\n",
       "      <td>109238.00</td>\n",
       "      <td>109222.46</td>\n",
       "      <td>109222.46</td>\n",
       "      <td>BTCUSDT.BINANCE</td>\n",
       "    </tr>\n",
       "    <tr>\n",
       "      <th>499</th>\n",
       "      <td>BINANCE</td>\n",
       "      <td>BTCUSDT</td>\n",
       "      <td>Exchange.BINANCE</td>\n",
       "      <td>2025-08-31 11:37:00+08:00</td>\n",
       "      <td>Interval.MINUTE</td>\n",
       "      <td>2.67226</td>\n",
       "      <td>0</td>\n",
       "      <td>0</td>\n",
       "      <td>109222.46</td>\n",
       "      <td>109260.00</td>\n",
       "      <td>109222.46</td>\n",
       "      <td>109259.99</td>\n",
       "      <td>BTCUSDT.BINANCE</td>\n",
       "    </tr>\n",
       "  </tbody>\n",
       "</table>\n",
       "<p>500 rows × 13 columns</p>\n",
       "</div>"
      ],
      "text/plain": [
       "    gateway_name   symbol          exchange                  datetime  \\\n",
       "0        BINANCE  BTCUSDT  Exchange.BINANCE 2025-08-31 03:18:00+08:00   \n",
       "1        BINANCE  BTCUSDT  Exchange.BINANCE 2025-08-31 03:19:00+08:00   \n",
       "2        BINANCE  BTCUSDT  Exchange.BINANCE 2025-08-31 03:20:00+08:00   \n",
       "3        BINANCE  BTCUSDT  Exchange.BINANCE 2025-08-31 03:21:00+08:00   \n",
       "4        BINANCE  BTCUSDT  Exchange.BINANCE 2025-08-31 03:22:00+08:00   \n",
       "..           ...      ...               ...                       ...   \n",
       "495      BINANCE  BTCUSDT  Exchange.BINANCE 2025-08-31 11:33:00+08:00   \n",
       "496      BINANCE  BTCUSDT  Exchange.BINANCE 2025-08-31 11:34:00+08:00   \n",
       "497      BINANCE  BTCUSDT  Exchange.BINANCE 2025-08-31 11:35:00+08:00   \n",
       "498      BINANCE  BTCUSDT  Exchange.BINANCE 2025-08-31 11:36:00+08:00   \n",
       "499      BINANCE  BTCUSDT  Exchange.BINANCE 2025-08-31 11:37:00+08:00   \n",
       "\n",
       "            interval   volume  turnover  open_interest  open_price  \\\n",
       "0    Interval.MINUTE  0.92041         0              0   108741.71   \n",
       "1    Interval.MINUTE  5.56694         0              0   108740.16   \n",
       "2    Interval.MINUTE  0.19891         0              0   108769.30   \n",
       "3    Interval.MINUTE  1.43955         0              0   108769.30   \n",
       "4    Interval.MINUTE  0.94639         0              0   108753.93   \n",
       "..               ...      ...       ...            ...         ...   \n",
       "495  Interval.MINUTE  0.90271         0              0   109179.59   \n",
       "496  Interval.MINUTE  2.32748         0              0   109188.33   \n",
       "497  Interval.MINUTE  5.75109         0              0   109213.62   \n",
       "498  Interval.MINUTE  0.82804         0              0   109238.00   \n",
       "499  Interval.MINUTE  2.67226         0              0   109222.46   \n",
       "\n",
       "     high_price  low_price  close_price        vt_symbol  \n",
       "0     108741.71  108740.15    108740.15  BTCUSDT.BINANCE  \n",
       "1     108769.30  108740.15    108769.30  BTCUSDT.BINANCE  \n",
       "2     108769.30  108769.29    108769.30  BTCUSDT.BINANCE  \n",
       "3     108769.30  108753.92    108753.92  BTCUSDT.BINANCE  \n",
       "4     108753.93  108736.50    108736.50  BTCUSDT.BINANCE  \n",
       "..          ...        ...          ...              ...  \n",
       "495   109190.01  109179.58    109188.33  BTCUSDT.BINANCE  \n",
       "496   109213.63  109188.32    109213.63  BTCUSDT.BINANCE  \n",
       "497   109238.00  109213.62    109238.00  BTCUSDT.BINANCE  \n",
       "498   109238.00  109222.46    109222.46  BTCUSDT.BINANCE  \n",
       "499   109260.00  109222.46    109259.99  BTCUSDT.BINANCE  \n",
       "\n",
       "[500 rows x 13 columns]"
      ]
     },
     "execution_count": 23,
     "metadata": {},
     "output_type": "execute_result"
    }
   ],
   "source": [
    "df"
   ]
  },
  {
   "cell_type": "code",
   "execution_count": 24,
   "id": "68cf8174-49d6-48e3-91f3-e6f6d5ec8bfd",
   "metadata": {},
   "outputs": [],
   "source": [
    "# 保存到csv文件\n",
    "df.to_csv(\"demo.csv\")"
   ]
  },
  {
   "cell_type": "code",
   "execution_count": 25,
   "id": "7e253dbc-1b7d-43ed-bb1f-8723b935c0eb",
   "metadata": {},
   "outputs": [
    {
     "data": {
      "text/plain": [
       "True"
      ]
     },
     "execution_count": 25,
     "metadata": {},
     "output_type": "execute_result"
    }
   ],
   "source": [
    "from vnpy.trader.database import get_database\n",
    "db = get_database()\n",
    "db.save_bar_data(bar_data)"
   ]
  },
  {
   "cell_type": "code",
   "execution_count": 29,
   "id": "22d2ac0c-6267-43f9-b13a-4096c812c451",
   "metadata": {},
   "outputs": [
    {
     "data": {
      "text/plain": [
       "[]"
      ]
     },
     "execution_count": 29,
     "metadata": {},
     "output_type": "execute_result"
    }
   ],
   "source": [
    "db.load_bar_data(\"BTCUSDT\", Exchange.BINANCE, Interval.MINUTE, datetime(2025, 8, 31), datetime(2025, 8, 31))"
   ]
  },
  {
   "cell_type": "code",
   "execution_count": null,
   "id": "a81dcf05-8586-4f9b-bdd6-af7a51153b9b",
   "metadata": {},
   "outputs": [],
   "source": []
  }
 ],
 "metadata": {
  "kernelspec": {
   "display_name": "Python 3 (ipykernel)",
   "language": "python",
   "name": "python3"
  },
  "language_info": {
   "codemirror_mode": {
    "name": "ipython",
    "version": 3
   },
   "file_extension": ".py",
   "mimetype": "text/x-python",
   "name": "python",
   "nbconvert_exporter": "python",
   "pygments_lexer": "ipython3",
   "version": "3.12.4"
  }
 },
 "nbformat": 4,
 "nbformat_minor": 5
}
