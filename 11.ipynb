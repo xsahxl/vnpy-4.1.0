{
 "cells": [
  {
   "cell_type": "code",
   "execution_count": 1,
   "id": "4a01f6e8-8cf5-4c11-b536-f7d77bf76b42",
   "metadata": {},
   "outputs": [],
   "source": [
    "import pandas as pd"
   ]
  },
  {
   "cell_type": "code",
   "execution_count": 2,
   "id": "3b8a17b6-18e3-492b-813a-02806c3c3d9f",
   "metadata": {},
   "outputs": [],
   "source": [
    "# 读取 CSV 文件，将 \"datetime\" 列设为索引\n",
    "df = pd.read_csv(\"demo.csv\", index_col=\"datetime\")"
   ]
  },
  {
   "cell_type": "code",
   "execution_count": 3,
   "id": "0b53446f-f3cf-4a9f-94de-7ac66741fa18",
   "metadata": {},
   "outputs": [
    {
     "data": {
      "text/html": [
       "<div>\n",
       "<style scoped>\n",
       "    .dataframe tbody tr th:only-of-type {\n",
       "        vertical-align: middle;\n",
       "    }\n",
       "\n",
       "    .dataframe tbody tr th {\n",
       "        vertical-align: top;\n",
       "    }\n",
       "\n",
       "    .dataframe thead th {\n",
       "        text-align: right;\n",
       "    }\n",
       "</style>\n",
       "<table border=\"1\" class=\"dataframe\">\n",
       "  <thead>\n",
       "    <tr style=\"text-align: right;\">\n",
       "      <th></th>\n",
       "      <th>Unnamed: 0</th>\n",
       "      <th>gateway_name</th>\n",
       "      <th>symbol</th>\n",
       "      <th>exchange</th>\n",
       "      <th>interval</th>\n",
       "      <th>volume</th>\n",
       "      <th>turnover</th>\n",
       "      <th>open_interest</th>\n",
       "      <th>open_price</th>\n",
       "      <th>high_price</th>\n",
       "      <th>low_price</th>\n",
       "      <th>close_price</th>\n",
       "      <th>vt_symbol</th>\n",
       "    </tr>\n",
       "    <tr>\n",
       "      <th>datetime</th>\n",
       "      <th></th>\n",
       "      <th></th>\n",
       "      <th></th>\n",
       "      <th></th>\n",
       "      <th></th>\n",
       "      <th></th>\n",
       "      <th></th>\n",
       "      <th></th>\n",
       "      <th></th>\n",
       "      <th></th>\n",
       "      <th></th>\n",
       "      <th></th>\n",
       "      <th></th>\n",
       "    </tr>\n",
       "  </thead>\n",
       "  <tbody>\n",
       "    <tr>\n",
       "      <th>2025-08-31 03:18:00+08:00</th>\n",
       "      <td>0</td>\n",
       "      <td>BINANCE</td>\n",
       "      <td>BTCUSDT</td>\n",
       "      <td>Exchange.BINANCE</td>\n",
       "      <td>Interval.MINUTE</td>\n",
       "      <td>0.92041</td>\n",
       "      <td>0</td>\n",
       "      <td>0</td>\n",
       "      <td>108741.71</td>\n",
       "      <td>108741.71</td>\n",
       "      <td>108740.15</td>\n",
       "      <td>108740.15</td>\n",
       "      <td>BTCUSDT.BINANCE</td>\n",
       "    </tr>\n",
       "    <tr>\n",
       "      <th>2025-08-31 03:19:00+08:00</th>\n",
       "      <td>1</td>\n",
       "      <td>BINANCE</td>\n",
       "      <td>BTCUSDT</td>\n",
       "      <td>Exchange.BINANCE</td>\n",
       "      <td>Interval.MINUTE</td>\n",
       "      <td>5.56694</td>\n",
       "      <td>0</td>\n",
       "      <td>0</td>\n",
       "      <td>108740.16</td>\n",
       "      <td>108769.30</td>\n",
       "      <td>108740.15</td>\n",
       "      <td>108769.30</td>\n",
       "      <td>BTCUSDT.BINANCE</td>\n",
       "    </tr>\n",
       "    <tr>\n",
       "      <th>2025-08-31 03:20:00+08:00</th>\n",
       "      <td>2</td>\n",
       "      <td>BINANCE</td>\n",
       "      <td>BTCUSDT</td>\n",
       "      <td>Exchange.BINANCE</td>\n",
       "      <td>Interval.MINUTE</td>\n",
       "      <td>0.19891</td>\n",
       "      <td>0</td>\n",
       "      <td>0</td>\n",
       "      <td>108769.30</td>\n",
       "      <td>108769.30</td>\n",
       "      <td>108769.29</td>\n",
       "      <td>108769.30</td>\n",
       "      <td>BTCUSDT.BINANCE</td>\n",
       "    </tr>\n",
       "    <tr>\n",
       "      <th>2025-08-31 03:21:00+08:00</th>\n",
       "      <td>3</td>\n",
       "      <td>BINANCE</td>\n",
       "      <td>BTCUSDT</td>\n",
       "      <td>Exchange.BINANCE</td>\n",
       "      <td>Interval.MINUTE</td>\n",
       "      <td>1.43955</td>\n",
       "      <td>0</td>\n",
       "      <td>0</td>\n",
       "      <td>108769.30</td>\n",
       "      <td>108769.30</td>\n",
       "      <td>108753.92</td>\n",
       "      <td>108753.92</td>\n",
       "      <td>BTCUSDT.BINANCE</td>\n",
       "    </tr>\n",
       "    <tr>\n",
       "      <th>2025-08-31 03:22:00+08:00</th>\n",
       "      <td>4</td>\n",
       "      <td>BINANCE</td>\n",
       "      <td>BTCUSDT</td>\n",
       "      <td>Exchange.BINANCE</td>\n",
       "      <td>Interval.MINUTE</td>\n",
       "      <td>0.94639</td>\n",
       "      <td>0</td>\n",
       "      <td>0</td>\n",
       "      <td>108753.93</td>\n",
       "      <td>108753.93</td>\n",
       "      <td>108736.50</td>\n",
       "      <td>108736.50</td>\n",
       "      <td>BTCUSDT.BINANCE</td>\n",
       "    </tr>\n",
       "  </tbody>\n",
       "</table>\n",
       "</div>"
      ],
      "text/plain": [
       "                           Unnamed: 0 gateway_name   symbol          exchange  \\\n",
       "datetime                                                                        \n",
       "2025-08-31 03:18:00+08:00           0      BINANCE  BTCUSDT  Exchange.BINANCE   \n",
       "2025-08-31 03:19:00+08:00           1      BINANCE  BTCUSDT  Exchange.BINANCE   \n",
       "2025-08-31 03:20:00+08:00           2      BINANCE  BTCUSDT  Exchange.BINANCE   \n",
       "2025-08-31 03:21:00+08:00           3      BINANCE  BTCUSDT  Exchange.BINANCE   \n",
       "2025-08-31 03:22:00+08:00           4      BINANCE  BTCUSDT  Exchange.BINANCE   \n",
       "\n",
       "                                  interval   volume  turnover  open_interest  \\\n",
       "datetime                                                                       \n",
       "2025-08-31 03:18:00+08:00  Interval.MINUTE  0.92041         0              0   \n",
       "2025-08-31 03:19:00+08:00  Interval.MINUTE  5.56694         0              0   \n",
       "2025-08-31 03:20:00+08:00  Interval.MINUTE  0.19891         0              0   \n",
       "2025-08-31 03:21:00+08:00  Interval.MINUTE  1.43955         0              0   \n",
       "2025-08-31 03:22:00+08:00  Interval.MINUTE  0.94639         0              0   \n",
       "\n",
       "                           open_price  high_price  low_price  close_price  \\\n",
       "datetime                                                                    \n",
       "2025-08-31 03:18:00+08:00   108741.71   108741.71  108740.15    108740.15   \n",
       "2025-08-31 03:19:00+08:00   108740.16   108769.30  108740.15    108769.30   \n",
       "2025-08-31 03:20:00+08:00   108769.30   108769.30  108769.29    108769.30   \n",
       "2025-08-31 03:21:00+08:00   108769.30   108769.30  108753.92    108753.92   \n",
       "2025-08-31 03:22:00+08:00   108753.93   108753.93  108736.50    108736.50   \n",
       "\n",
       "                                 vt_symbol  \n",
       "datetime                                    \n",
       "2025-08-31 03:18:00+08:00  BTCUSDT.BINANCE  \n",
       "2025-08-31 03:19:00+08:00  BTCUSDT.BINANCE  \n",
       "2025-08-31 03:20:00+08:00  BTCUSDT.BINANCE  \n",
       "2025-08-31 03:21:00+08:00  BTCUSDT.BINANCE  \n",
       "2025-08-31 03:22:00+08:00  BTCUSDT.BINANCE  "
      ]
     },
     "execution_count": 3,
     "metadata": {},
     "output_type": "execute_result"
    }
   ],
   "source": [
    "# 查看 DataFrame 的前几行数据\n",
    "df.head()"
   ]
  },
  {
   "cell_type": "code",
   "execution_count": 4,
   "id": "ff8330a1-c226-4303-ad05-38f12aca821c",
   "metadata": {},
   "outputs": [
    {
     "data": {
      "text/plain": [
       "Unnamed: 0       500\n",
       "gateway_name     500\n",
       "symbol           500\n",
       "exchange         500\n",
       "interval         500\n",
       "volume           500\n",
       "turnover         500\n",
       "open_interest    500\n",
       "open_price       500\n",
       "high_price       500\n",
       "low_price        500\n",
       "close_price      500\n",
       "vt_symbol        500\n",
       "dtype: int64"
      ]
     },
     "execution_count": 4,
     "metadata": {},
     "output_type": "execute_result"
    }
   ],
   "source": [
    "# 统计数量\n",
    "df.count()"
   ]
  },
  {
   "cell_type": "code",
   "execution_count": 5,
   "id": "bbb0b893-275a-46e6-8b4e-f6c1ada917c8",
   "metadata": {},
   "outputs": [
    {
     "data": {
      "text/plain": [
       "np.float64(2531.6807)"
      ]
     },
     "execution_count": 5,
     "metadata": {},
     "output_type": "execute_result"
    }
   ],
   "source": [
    "# 对 \"volume\" 列求和\n",
    "df[\"volume\"].sum()"
   ]
  },
  {
   "cell_type": "code",
   "execution_count": 6,
   "id": "672bede4-fed0-42c4-a476-fb6816096c0e",
   "metadata": {},
   "outputs": [
    {
     "data": {
      "text/plain": [
       "datetime\n",
       "2025-08-31 03:18:00+08:00       0.92041\n",
       "2025-08-31 03:19:00+08:00       6.48735\n",
       "2025-08-31 03:20:00+08:00       6.68626\n",
       "2025-08-31 03:21:00+08:00       8.12581\n",
       "2025-08-31 03:22:00+08:00       9.07220\n",
       "                                ...    \n",
       "2025-08-31 11:33:00+08:00    2520.10183\n",
       "2025-08-31 11:34:00+08:00    2522.42931\n",
       "2025-08-31 11:35:00+08:00    2528.18040\n",
       "2025-08-31 11:36:00+08:00    2529.00844\n",
       "2025-08-31 11:37:00+08:00    2531.68070\n",
       "Name: volume, Length: 500, dtype: float64"
      ]
     },
     "execution_count": 6,
     "metadata": {},
     "output_type": "execute_result"
    }
   ],
   "source": [
    "# 对 \"volume\" 列进行累计求和\n",
    "df[\"volume\"].cumsum()"
   ]
  },
  {
   "cell_type": "code",
   "execution_count": 10,
   "id": "23724eb6-1ebb-4234-ab51-911fb0f17937",
   "metadata": {},
   "outputs": [
    {
     "data": {
      "text/plain": [
       "np.float64(5.0633614)"
      ]
     },
     "execution_count": 10,
     "metadata": {},
     "output_type": "execute_result"
    }
   ],
   "source": [
    "# 计算各列的均值\n",
    "df[\"volume\"].mean()"
   ]
  },
  {
   "cell_type": "code",
   "execution_count": 12,
   "id": "e9bd2646-6237-4f0c-8c89-cc4ec2bdcbc6",
   "metadata": {},
   "outputs": [
    {
     "data": {
      "text/plain": [
       "np.float64(109480.02)"
      ]
     },
     "execution_count": 12,
     "metadata": {},
     "output_type": "execute_result"
    }
   ],
   "source": [
    "df[\"high_price\"].max()"
   ]
  },
  {
   "cell_type": "code",
   "execution_count": 13,
   "id": "10e5e9ec-b25c-4b5c-bbf0-ad75afd449d4",
   "metadata": {},
   "outputs": [
    {
     "data": {
      "text/plain": [
       "np.float64(108468.77)"
      ]
     },
     "execution_count": 13,
     "metadata": {},
     "output_type": "execute_result"
    }
   ],
   "source": [
    "# 求 \"low_price\" 列的最小值\n",
    "df[\"low_price\"].min()"
   ]
  },
  {
   "cell_type": "code",
   "execution_count": 14,
   "id": "18b62bdb-3f41-49cd-ae41-7f9ca98286c1",
   "metadata": {},
   "outputs": [
    {
     "data": {
      "text/plain": [
       "np.float64(108799.39)"
      ]
     },
     "execution_count": 14,
     "metadata": {},
     "output_type": "execute_result"
    }
   ],
   "source": [
    "# 求中位数\n",
    "df[\"close_price\"].median()"
   ]
  },
  {
   "cell_type": "code",
   "execution_count": 15,
   "id": "f5818ae9-508e-4520-99bf-047d8aeb8aba",
   "metadata": {},
   "outputs": [],
   "source": [
    "# 求百分比变动\n",
    "df[\"return\"] = df[\"close_price\"].pct_change()"
   ]
  },
  {
   "cell_type": "code",
   "execution_count": 16,
   "id": "ef4783d0-fb79-442c-91b2-5aaf919f6806",
   "metadata": {},
   "outputs": [
    {
     "data": {
      "text/plain": [
       "datetime\n",
       "2025-08-31 03:18:00+08:00         NaN\n",
       "2025-08-31 03:19:00+08:00    0.000268\n",
       "2025-08-31 03:20:00+08:00    0.000000\n",
       "2025-08-31 03:21:00+08:00   -0.000141\n",
       "2025-08-31 03:22:00+08:00   -0.000160\n",
       "                               ...   \n",
       "2025-08-31 11:33:00+08:00    0.000080\n",
       "2025-08-31 11:34:00+08:00    0.000232\n",
       "2025-08-31 11:35:00+08:00    0.000223\n",
       "2025-08-31 11:36:00+08:00   -0.000142\n",
       "2025-08-31 11:37:00+08:00    0.000344\n",
       "Name: return, Length: 500, dtype: float64"
      ]
     },
     "execution_count": 16,
     "metadata": {},
     "output_type": "execute_result"
    }
   ],
   "source": [
    "# 查看 return 列\n",
    "df[\"return\"]"
   ]
  },
  {
   "cell_type": "code",
   "execution_count": 17,
   "id": "b32e6532-2b7e-4287-813b-49df4ebd399b",
   "metadata": {},
   "outputs": [
    {
     "data": {
      "text/plain": [
       "np.float64(0.00023910901723332012)"
      ]
     },
     "execution_count": 17,
     "metadata": {},
     "output_type": "execute_result"
    }
   ],
   "source": [
    "# 标准差\n",
    "df[\"return\"].std()"
   ]
  },
  {
   "cell_type": "code",
   "execution_count": 18,
   "id": "eef3456c-b8fb-4587-ab56-49dc024c6c2a",
   "metadata": {},
   "outputs": [
    {
     "data": {
      "text/plain": [
       "'2025-08-31 08:52:00+08:00'"
      ]
     },
     "execution_count": 18,
     "metadata": {},
     "output_type": "execute_result"
    }
   ],
   "source": [
    "# 极值索引（最大值索引）\n",
    "df[\"return\"].idxmax()"
   ]
  },
  {
   "cell_type": "code",
   "execution_count": 19,
   "id": "20fc681e-79ef-4ba8-98a7-a98c2a17b37c",
   "metadata": {},
   "outputs": [
    {
     "data": {
      "text/plain": [
       "'2025-08-31 05:06:00+08:00'"
      ]
     },
     "execution_count": 19,
     "metadata": {},
     "output_type": "execute_result"
    }
   ],
   "source": [
    "# 极值索引（最小值索引）\n",
    "df[\"return\"].idxmin()"
   ]
  },
  {
   "cell_type": "code",
   "execution_count": 20,
   "id": "1552f326-8f86-433a-ae27-14e4104a8d64",
   "metadata": {},
   "outputs": [
    {
     "data": {
      "text/plain": [
       "count    499.000000\n",
       "mean       0.000010\n",
       "std        0.000239\n",
       "min       -0.001347\n",
       "25%       -0.000121\n",
       "50%        0.000000\n",
       "75%        0.000127\n",
       "max        0.001208\n",
       "Name: return, dtype: float64"
      ]
     },
     "execution_count": 20,
     "metadata": {},
     "output_type": "execute_result"
    }
   ],
   "source": [
    "# 汇总描述\n",
    "df[\"return\"].describe()"
   ]
  },
  {
   "cell_type": "code",
   "execution_count": null,
   "id": "c6ddc0a6-d3ce-4dbb-bad2-e2b0d4c3a463",
   "metadata": {},
   "outputs": [],
   "source": []
  }
 ],
 "metadata": {
  "kernelspec": {
   "display_name": "Python 3 (ipykernel)",
   "language": "python",
   "name": "python3"
  },
  "language_info": {
   "codemirror_mode": {
    "name": "ipython",
    "version": 3
   },
   "file_extension": ".py",
   "mimetype": "text/x-python",
   "name": "python",
   "nbconvert_exporter": "python",
   "pygments_lexer": "ipython3",
   "version": "3.12.4"
  }
 },
 "nbformat": 4,
 "nbformat_minor": 5
}
